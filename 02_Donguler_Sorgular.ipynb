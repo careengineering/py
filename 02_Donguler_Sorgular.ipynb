{
 "cells": [
  {
   "cell_type": "markdown",
   "metadata": {},
   "source": [
    "FOR DÖNGÜLERİ"
   ]
  },
  {
   "cell_type": "code",
   "execution_count": 43,
   "metadata": {},
   "outputs": [
    {
     "name": "stdout",
     "output_type": "stream",
     "text": [
      "ahmet gel\n",
      "mehmet koş\n",
      "ayşe bak\n",
      "fatma sor\n",
      "hayriye gör\n"
     ]
    }
   ],
   "source": [
    "yorum_yazanlar=[\"ahmet gel\", \"mehmet koş\", \"ayşe bak\", \"fatma sor\",\"hayriye gör\"]\n",
    "for kisi in yorum_yazanlar:\n",
    "    print(kisi)"
   ]
  },
  {
   "cell_type": "code",
   "execution_count": 44,
   "metadata": {},
   "outputs": [
    {
     "name": "stdout",
     "output_type": "stream",
     "text": [
      "1 . ahmet gel\n",
      "2 . mehmet koş\n",
      "3 . ayşe bak\n",
      "4 . fatma sor\n",
      "5 . hayriye gör\n"
     ]
    }
   ],
   "source": [
    "kullanıcı_sayisi = 0\n",
    "for kisi in yorum_yazanlar:\n",
    "    kullanıcı_sayisi = kullanıcı_sayisi + 1\n",
    "    print(kullanıcı_sayisi,\".\",kisi)"
   ]
  },
  {
   "cell_type": "code",
   "execution_count": 45,
   "metadata": {},
   "outputs": [],
   "source": [
    "ad = yorum_yazanlar[0].split()[0]\n",
    "soyad = yorum_yazanlar[0].split()[1]\n",
    "# ad, soyad = yorum_yazanlar[0].split()[0], yorum_yazanlar[0].split()[1] ikili atama şekli tavsiye edilmiyor"
   ]
  },
  {
   "cell_type": "code",
   "execution_count": 46,
   "metadata": {},
   "outputs": [
    {
     "name": "stdout",
     "output_type": "stream",
     "text": [
      "1 Adı:ahmet Soyadı gel\n",
      "2 Adı:mehmet Soyadı koş\n",
      "3 Adı:ayşe Soyadı bak\n",
      "4 Adı:fatma Soyadı sor\n",
      "5 Adı:hayriye Soyadı gör\n"
     ]
    }
   ],
   "source": [
    "kullanıcı_sayisi = 0\n",
    "for kisi in yorum_yazanlar:\n",
    "    kullanıcı_sayisi = kullanıcı_sayisi + 1\n",
    "    ad, soyad = kisi.split()[0], kisi.split()[1]\n",
    "    print(\"{} Adı:{} Soyadı {}\".format(kullanıcı_sayisi,ad,soyad))"
   ]
  },
  {
   "cell_type": "code",
   "execution_count": 47,
   "metadata": {},
   "outputs": [
    {
     "name": "stdout",
     "output_type": "stream",
     "text": [
      "1 Kullanıcının Adı:ahmet Soyadı gel\n",
      "1 Moderator Adı:mehmet Soyadı koş\n",
      "2 Kullanıcının Adı:ayşe Soyadı bak\n",
      "3 Kullanıcının Adı:fatma Soyadı sor\n",
      "4 Kullanıcının Adı:hayriye Soyadı gör\n"
     ]
    }
   ],
   "source": [
    "moderator = 'mehmet koş'\n",
    "kullanıcı_sayisi = 0\n",
    "moderator_sayisi=0\n",
    "for kisi in yorum_yazanlar:\n",
    "    ad, soyad = kisi.split()[0], kisi.split()[1]\n",
    "    if (kisi == moderator) :\n",
    "        moderator_sayisi +=1\n",
    "        print(\"{} Moderator Adı:{} Soyadı {}\".format(moderator_sayisi,ad,soyad))\n",
    "    else:\n",
    "        kullanıcı_sayisi += 1\n",
    "        print(\"{} Kullanıcının Adı:{} Soyadı {}\".format(kullanıcı_sayisi,ad,soyad))"
   ]
  },
  {
   "cell_type": "code",
   "execution_count": 48,
   "metadata": {},
   "outputs": [
    {
     "name": "stdout",
     "output_type": "stream",
     "text": [
      "1\n",
      "3\n",
      "5\n",
      "7\n"
     ]
    }
   ],
   "source": [
    "tup1 = (1,3,5,7)\n",
    "for sayi in tup1:\n",
    "    print(sayi)"
   ]
  },
  {
   "cell_type": "code",
   "execution_count": 49,
   "metadata": {},
   "outputs": [
    {
     "name": "stdout",
     "output_type": "stream",
     "text": [
      "1\n",
      "3\n"
     ]
    }
   ],
   "source": [
    "liste = [[1,2],[3,4]]\n",
    "for x,y in liste: #alt listedeki eleman sayısına göre x,y,... atanmalı\n",
    "    print(x)"
   ]
  },
  {
   "cell_type": "code",
   "execution_count": 50,
   "metadata": {},
   "outputs": [
    {
     "name": "stdout",
     "output_type": "stream",
     "text": [
      "2\n",
      "12\n",
      "30\n"
     ]
    }
   ],
   "source": [
    "liste = [[1,2],[3,4],[5,6]]\n",
    "for x,y in liste:\n",
    "    print(x*y)"
   ]
  },
  {
   "cell_type": "code",
   "execution_count": 51,
   "metadata": {},
   "outputs": [
    {
     "data": {
      "text/plain": [
       "dict_items([('ad', 'Ayşe'), ('soyad', 'Gel')])"
      ]
     },
     "execution_count": 51,
     "metadata": {},
     "output_type": "execute_result"
    }
   ],
   "source": [
    "kullanici1 = {\n",
    "    'ad' : 'Ayşe',\n",
    "    'soyad' : 'Gel'\n",
    "}\n",
    "kullanici1.items()"
   ]
  },
  {
   "cell_type": "code",
   "execution_count": 52,
   "metadata": {},
   "outputs": [
    {
     "name": "stdout",
     "output_type": "stream",
     "text": [
      "Key : ad \t Value: Ayşe\n",
      "Key : soyad \t Value: Gel\n"
     ]
    }
   ],
   "source": [
    "for k,v in kullanici1.items():\n",
    "    print(\"Key : {} \\t Value: {}\".format(k,v))"
   ]
  },
  {
   "cell_type": "code",
   "execution_count": 53,
   "metadata": {},
   "outputs": [
    {
     "name": "stdout",
     "output_type": "stream",
     "text": [
      "Key : ad\n",
      "Key : soyad\n"
     ]
    }
   ],
   "source": [
    "for k in kullanici1.keys():\n",
    "    print(\"Key : {}\".format(k))"
   ]
  },
  {
   "cell_type": "markdown",
   "metadata": {},
   "source": [
    "WHILE"
   ]
  },
  {
   "cell_type": "code",
   "execution_count": 54,
   "metadata": {},
   "outputs": [
    {
     "name": "stdout",
     "output_type": "stream",
     "text": [
      "0 değeri 10 dan küçük\n",
      "1 değeri 10 dan küçük\n",
      "2 değeri 10 dan küçük\n",
      "3 değeri 10 dan küçük\n",
      "4 değeri 10 dan küçük\n",
      "5 değeri 10 dan küçük\n",
      "6 değeri 10 dan küçük\n",
      "7 değeri 10 dan küçük\n",
      "8 değeri 10 dan küçük\n",
      "9 değeri 10 dan küçük\n"
     ]
    }
   ],
   "source": [
    "x = 0\n",
    "while x<10 :\n",
    "    print(\"{} değeri 10 dan küçük\".format(x))\n",
    "    x+=1"
   ]
  },
  {
   "cell_type": "code",
   "execution_count": 55,
   "metadata": {},
   "outputs": [
    {
     "name": "stdout",
     "output_type": "stream",
     "text": [
      "0 değeri 10 dan küçük\n",
      "1 değeri 10 dan küçük\n",
      "2 değeri 10 dan küçük\n",
      "3 değeri 10 dan küçük\n",
      "4 değeri 10 dan küçük\n",
      "5 değeri 10 dan küçük\n",
      "6 değeri 10 dan küçük\n",
      "7 değeri 10 dan küçük\n",
      "8 değeri 10 dan küçük\n",
      "9 değeri 10 dan küçük\n",
      "10 değeri 10 dan küçük değil\n"
     ]
    }
   ],
   "source": [
    "x = 0\n",
    "while x<10 :\n",
    "    print(\"{} değeri 10 dan küçük\".format(x))\n",
    "    x+=1\n",
    "else : \n",
    "    print(\"{} değeri 10 dan küçük değil\".format(x))"
   ]
  },
  {
   "cell_type": "code",
   "execution_count": 56,
   "metadata": {},
   "outputs": [
    {
     "name": "stdout",
     "output_type": "stream",
     "text": [
      "faktoriyeli 720 olarak hesaplanmıştır.\n"
     ]
    }
   ],
   "source": [
    "fak = 1\n",
    "sayi = 6\n",
    "while sayi>0:\n",
    "    fak *= sayi\n",
    "    sayi -= 1\n",
    "print (\"faktoriyeli {} olarak hesaplanmıştır.\".format(fak))"
   ]
  },
  {
   "cell_type": "markdown",
   "metadata": {},
   "source": [
    "RANGE"
   ]
  },
  {
   "cell_type": "code",
   "execution_count": 57,
   "metadata": {},
   "outputs": [
    {
     "name": "stdout",
     "output_type": "stream",
     "text": [
      "range(0, 10)\n",
      "[0, 1, 2, 3, 4, 5, 6, 7, 8, 9]\n"
     ]
    }
   ],
   "source": [
    "range(10) #0 dan verilen sayıya kadar tam sayılar. 10 hariç\n",
    "print(range(10))\n",
    "print(list(range(10)))"
   ]
  },
  {
   "cell_type": "code",
   "execution_count": 58,
   "metadata": {},
   "outputs": [
    {
     "data": {
      "text/plain": [
       "[0, 1, 2, 3, 4, 5, 6, 7, 8, 9]"
      ]
     },
     "execution_count": 58,
     "metadata": {},
     "output_type": "execute_result"
    }
   ],
   "source": [
    "[*range(10)] #listeye kolay çevirme"
   ]
  },
  {
   "cell_type": "code",
   "execution_count": 59,
   "metadata": {},
   "outputs": [
    {
     "data": {
      "text/plain": [
       "[2, 3, 4, 5, 6]"
      ]
     },
     "execution_count": 59,
     "metadata": {},
     "output_type": "execute_result"
    }
   ],
   "source": [
    "[*range(2,7)]"
   ]
  },
  {
   "cell_type": "code",
   "execution_count": 60,
   "metadata": {},
   "outputs": [
    {
     "data": {
      "text/plain": [
       "[2, 4, 6]"
      ]
     },
     "execution_count": 60,
     "metadata": {},
     "output_type": "execute_result"
    }
   ],
   "source": [
    "[*range(2,7,2)] #2 şer atlar"
   ]
  },
  {
   "cell_type": "code",
   "execution_count": 61,
   "metadata": {},
   "outputs": [
    {
     "name": "stdout",
     "output_type": "stream",
     "text": [
      "0\n",
      "1\n",
      "2\n",
      "3\n",
      "4\n",
      "5\n",
      "6\n",
      "7\n",
      "8\n",
      "9\n"
     ]
    }
   ],
   "source": [
    "for sayi in range(10):\n",
    "    print (sayi)"
   ]
  },
  {
   "cell_type": "markdown",
   "metadata": {},
   "source": [
    "ENUMARATE"
   ]
  },
  {
   "cell_type": "code",
   "execution_count": 63,
   "metadata": {},
   "outputs": [
    {
     "name": "stdout",
     "output_type": "stream",
     "text": [
      "(0, 'a')\n",
      "(1, 'b')\n",
      "(2, 'c')\n",
      "(3, 'd')\n",
      "(4, 'e')\n"
     ]
    }
   ],
   "source": [
    "harfler = [\"a\",\"b\",\"c\",\"d\",\"e\"]\n",
    "for harf in enumerate(harfler):\n",
    "    print(harf)"
   ]
  },
  {
   "cell_type": "code",
   "execution_count": 67,
   "metadata": {},
   "outputs": [
    {
     "name": "stdout",
     "output_type": "stream",
     "text": [
      "1.harf:a\n",
      "2.harf:b\n",
      "3.harf:c\n",
      "4.harf:d\n",
      "5.harf:e\n"
     ]
    }
   ],
   "source": [
    "harfler = [\"a\",\"b\",\"c\",\"d\",\"e\"]\n",
    "for index, harf in enumerate(harfler):\n",
    "    print(\"{}.harf:{}\".format(index+1,harf))"
   ]
  },
  {
   "cell_type": "code",
   "execution_count": 68,
   "metadata": {},
   "outputs": [
    {
     "name": "stdout",
     "output_type": "stream",
     "text": [
      "('tr', 1)\n",
      "('en', 2)\n",
      "('de', 3)\n"
     ]
    }
   ],
   "source": [
    "ulkeler = [\"tr\",\"en\",\"de\"]\n",
    "siramalar = range (1,4)\n",
    "for ulke in zip(ulkeler,siramalar): #ziplemek için eleman sayısı aynı olmalı\n",
    "    print(ulke)"
   ]
  }
 ],
 "metadata": {
  "kernelspec": {
   "display_name": "Python 3.9.12 ('base')",
   "language": "python",
   "name": "python3"
  },
  "language_info": {
   "codemirror_mode": {
    "name": "ipython",
    "version": 3
   },
   "file_extension": ".py",
   "mimetype": "text/x-python",
   "name": "python",
   "nbconvert_exporter": "python",
   "pygments_lexer": "ipython3",
   "version": "3.9.12"
  },
  "orig_nbformat": 4,
  "vscode": {
   "interpreter": {
    "hash": "ad4230dcc985a6694447830c7503112868e55c5b8e7e9400fedb750133391ec9"
   }
  }
 },
 "nbformat": 4,
 "nbformat_minor": 2
}
