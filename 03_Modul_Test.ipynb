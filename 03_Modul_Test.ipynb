{
 "cells": [
  {
   "cell_type": "markdown",
   "metadata": {},
   "source": [
    "## Fonksiyon Uygulamasi"
   ]
  },
  {
   "cell_type": "markdown",
   "metadata": {},
   "source": [
    "### Bilgi:\n",
    "3 üzeri 2 = 9 \n",
    "Python'da üstel sayilari hesaplamak icin 3**2 seklinde gösterilir. "
   ]
  },
  {
   "cell_type": "code",
   "execution_count": 5,
   "metadata": {},
   "outputs": [
    {
     "data": {
      "text/plain": [
       "9"
      ]
     },
     "execution_count": 5,
     "metadata": {},
     "output_type": "execute_result"
    }
   ],
   "source": [
    "3**2"
   ]
  },
  {
   "cell_type": "markdown",
   "metadata": {},
   "source": [
    "#### Soru 1: Asagidaki fonskiyonu 2 parametre alacak ve üstel sonucu return edecek bicimde doldurun"
   ]
  },
  {
   "cell_type": "code",
   "execution_count": 2,
   "metadata": {},
   "outputs": [
    {
     "data": {
      "text/plain": [
       "9"
      ]
     },
     "execution_count": 2,
     "metadata": {},
     "output_type": "execute_result"
    }
   ],
   "source": [
    "def ustel_sayi_v1(a,b):\n",
    "    \"\"\"\n",
    "    parametre: a: taban sayisi  b: kuvvet (üs) sayisi\n",
    "    tip:       a: integer       b: integer\n",
    "    örnek:     a: 3             b: 2\n",
    "    \n",
    "    r-return:  a üzeri b matematik isleminin sonucu\n",
    "    r-tip:     integer\n",
    "    r-örnek:   9\n",
    "    \"\"\"\n",
    "    return a**b\n",
    "\n",
    "ustel_sayi_v1(3,2)"
   ]
  },
  {
   "cell_type": "markdown",
   "metadata": {},
   "source": [
    "#### Soru 2: Asagidaki fonskiyonu 2 parametre alacak ve üstel sonucu return edecek bicimde  ve  ** yerine for döngüsü ile hesaplayacak bicimde olusturun"
   ]
  },
  {
   "cell_type": "code",
   "execution_count": 4,
   "metadata": {},
   "outputs": [
    {
     "data": {
      "text/plain": [
       "9"
      ]
     },
     "execution_count": 4,
     "metadata": {},
     "output_type": "execute_result"
    }
   ],
   "source": [
    "def ustel_sayi_v2(a,b):\n",
    "    \"\"\"\n",
    "    parametre: a: taban sayisi  b: kuvvet (üs) sayisi\n",
    "    tip:       a: integer       b: integer\n",
    "    örnek:     a: 3             b: 2\n",
    "    \n",
    "    r-return:  a üzeri b matematik isleminin sonucu\n",
    "    r-tip:     integer\n",
    "    r-örnek:   9\n",
    "    \"\"\"\n",
    "    sonuc = 1\n",
    "    for kuvvet in range (1,b+1):\n",
    "        sonuc = sonuc * a\n",
    "\n",
    "    return sonuc\n",
    "\n",
    "ustel_sayi_v2(3,2)"
   ]
  },
  {
   "cell_type": "markdown",
   "metadata": {},
   "source": [
    "### Bilgi:\n",
    ".sort() komutu listeyi kücükten büyüge siralar"
   ]
  },
  {
   "cell_type": "code",
   "execution_count": 9,
   "metadata": {},
   "outputs": [
    {
     "data": {
      "text/plain": [
       "[1, 2, 3, 4, 5]"
      ]
     },
     "execution_count": 9,
     "metadata": {},
     "output_type": "execute_result"
    }
   ],
   "source": [
    "liste = [1,5,2,3,4]\n",
    "liste.sort()\n",
    "liste"
   ]
  },
  {
   "cell_type": "markdown",
   "metadata": {},
   "source": [
    "#### Soru 3: Asagidaki fonskiyonu 1 parametre alacak (sadece sayilardan olusan liste tipinde) ve en büyük iki sayiyi döndürecek bicimde olusturun"
   ]
  },
  {
   "cell_type": "code",
   "execution_count": 12,
   "metadata": {},
   "outputs": [
    {
     "data": {
      "text/plain": [
       "(10, 6)"
      ]
     },
     "execution_count": 12,
     "metadata": {},
     "output_type": "execute_result"
    }
   ],
   "source": [
    "def listedeki_en_buyuk_iki_sayi(liste):\n",
    "    \"\"\"\n",
    "    parametre: icerisinde sadece sayi iceren \n",
    "    tip:       liste\n",
    "    örnek:     [1,5,10,2,6]\n",
    "    \n",
    "    r-return:  en büyük sayi      en büyük ikinci sayi\n",
    "    r-tip:     integer            integer\n",
    "    r-örnek:   10                 6\n",
    "    \"\"\"\n",
    "    \n",
    "    liste.sort()\n",
    "    return liste[-1] , liste[-2]\n",
    "\n",
    "deneme = [1,5,10,2,6]\n",
    "listedeki_en_buyuk_iki_sayi(deneme)"
   ]
  },
  {
   "cell_type": "markdown",
   "metadata": {},
   "source": [
    "## Map, Filter ve Lambda Uygulamalari"
   ]
  },
  {
   "cell_type": "markdown",
   "metadata": {},
   "source": [
    "#### Soru 4: Asagidaki fonskiyonu 1 parametre alacak (liste tipinde) ve sadece str tipindeki degerleri filter ve lambda ifadelerini kullanarak filtreleyecek bicimde olusturun"
   ]
  },
  {
   "cell_type": "code",
   "execution_count": 16,
   "metadata": {},
   "outputs": [
    {
     "data": {
      "text/plain": [
       "['abc', 'a']"
      ]
     },
     "execution_count": 16,
     "metadata": {},
     "output_type": "execute_result"
    }
   ],
   "source": [
    "def str_filtrele(liste):\n",
    "    \"\"\"\n",
    "    parametre: rastgele tipte elemanlar iceren\n",
    "    tip:       liste\n",
    "    örnek:     [1,2,3,5,'abc','a',True]\n",
    "    \n",
    "    r-return:  sadece string tipindeki degerleri iceren\n",
    "    r-tip:     liste\n",
    "    r-örnek:   ['abc', 'a']\n",
    "    \"\"\"\n",
    "    sonuc=[]\n",
    "    for x in liste:\n",
    "        if type(x) == str:\n",
    "            sonuc.append(x)\n",
    "        else:\n",
    "            pass\n",
    "    return sonuc\n",
    "\n",
    "str_filtrele([1,2,3,5,'abc','a',True])"
   ]
  },
  {
   "cell_type": "code",
   "execution_count": 19,
   "metadata": {},
   "outputs": [
    {
     "data": {
      "text/plain": [
       "['abc', 'a']"
      ]
     },
     "execution_count": 19,
     "metadata": {},
     "output_type": "execute_result"
    }
   ],
   "source": [
    "def str_filtrele_v2(liste):\n",
    "    \"\"\"\n",
    "    parametre: rastgele tipte elemanlar iceren\n",
    "    tip:       liste\n",
    "    örnek:     [1,2,3,5,'abc','a',True]\n",
    "    \n",
    "    r-return:  sadece string tipindeki degerleri iceren\n",
    "    r-tip:     liste\n",
    "    r-örnek:   ['abc', 'a']\n",
    "    \"\"\"\n",
    "\n",
    "    return [*filter(lambda x : x if type(x)==str else None,liste)]\n",
    "\n",
    "str_filtrele_v2([1,2,3,5,'abc','a',True])"
   ]
  },
  {
   "cell_type": "markdown",
   "metadata": {},
   "source": [
    "#### Soru 5: Asagidaki fonskiyonu 1 parametre alacak (sadece sayi iceren liste tipinde) ve map ve lambda ifadelerini kullanarak 6 sifir atacak bicimde olusturun"
   ]
  },
  {
   "cell_type": "code",
   "execution_count": 22,
   "metadata": {},
   "outputs": [
    {
     "data": {
      "text/plain": [
       "[1, 90, 15]"
      ]
     },
     "execution_count": 22,
     "metadata": {},
     "output_type": "execute_result"
    }
   ],
   "source": [
    "def paradan_alti_sifir_at_v2(liste):\n",
    "    \"\"\"\n",
    "    parametre: sayi tipinde elemanlar iceren\n",
    "    tip:       liste\n",
    "    örnek:     [1000000, 90000000, 15000000]\n",
    "    \n",
    "    r-return:  liste elemanlarinin 6 sifir atilmis halinde\n",
    "    r-tip:     liste\n",
    "    r-örnek:   [1, 90, 15]\n",
    "    \"\"\"\n",
    "    return [*map(lambda x: int(x/1000000),liste)]\n",
    "    \n",
    "paradan_alti_sifir_at_v2([1000000, 90000000, 15000000])"
   ]
  },
  {
   "cell_type": "markdown",
   "metadata": {},
   "source": [
    "## Kullanici Girdisi Uygulamasi"
   ]
  },
  {
   "cell_type": "markdown",
   "metadata": {},
   "source": [
    "#### Soru 6: Asagidaki fonskiyonu input komutu ile kullanicidan saat ve dakika alacak bicimde olusuturun."
   ]
  },
  {
   "cell_type": "code",
   "execution_count": 23,
   "metadata": {},
   "outputs": [
    {
     "data": {
      "text/plain": [
       "'Giris yapilan zaman 12:2'"
      ]
     },
     "execution_count": 23,
     "metadata": {},
     "output_type": "execute_result"
    }
   ],
   "source": [
    "def zaman_verisi_al():\n",
    "    \"\"\"\n",
    "    parametre: None\n",
    "    tip:       None\n",
    "    örnek:     None\n",
    "    \n",
    "    r-return:  Saati ekrana döndür\n",
    "    r-tip:     String\n",
    "    r-örnek:   saat: 23,       dakika: 59\n",
    "    \"\"\"\n",
    "    saat = input(\"Saat giriniz:\")\n",
    "    if saat.isdigit():\n",
    "        saat = int(saat)\n",
    "        if((saat >= 0) and (saat < 24)):\n",
    "            dakika = input('Dakika giriniz:')\n",
    "            if dakika.isdigit():\n",
    "                dakika = int(dakika)\n",
    "                if ((dakika >= 0) and (dakika <60)):\n",
    "                    return 'Giris yapilan zaman {}:{}'.format(saat, dakika)\n",
    "                else:\n",
    "                    return 'Girilen dakika araligi yanlis'\n",
    "            else:\n",
    "                return 'Girilen dakika yanlis veri tipinde'\n",
    "        else:\n",
    "            return 'Girilen saat araligi yanlis'\n",
    "    else:\n",
    "        return 'Girilen saat yanlis veri tipinde'\n",
    "\n",
    "zaman_verisi_al()"
   ]
  }
 ],
 "metadata": {
  "kernelspec": {
   "display_name": "Python 3.9.12 ('base')",
   "language": "python",
   "name": "python3"
  },
  "language_info": {
   "codemirror_mode": {
    "name": "ipython",
    "version": 3
   },
   "file_extension": ".py",
   "mimetype": "text/x-python",
   "name": "python",
   "nbconvert_exporter": "python",
   "pygments_lexer": "ipython3",
   "version": "3.9.12"
  },
  "vscode": {
   "interpreter": {
    "hash": "ad4230dcc985a6694447830c7503112868e55c5b8e7e9400fedb750133391ec9"
   }
  }
 },
 "nbformat": 4,
 "nbformat_minor": 4
}
