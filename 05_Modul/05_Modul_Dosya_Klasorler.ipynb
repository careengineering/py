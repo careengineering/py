{
 "cells": [
  {
   "cell_type": "markdown",
   "metadata": {},
   "source": [
    "Magic Commands - jupyter e özgü"
   ]
  },
  {
   "cell_type": "code",
   "execution_count": 1,
   "metadata": {},
   "outputs": [
    {
     "name": "stdout",
     "output_type": "stream",
     "text": [
      " Volume in drive Z is Depo\n",
      " Volume Serial Number is 4AB2-0D55\n",
      "\n",
      " Directory of z:\\Prj\\py\\05_Modul\n",
      "\n",
      "\n",
      " Directory of z:\\Prj\\py\\05_Modul\n",
      "\n",
      "\n",
      " Directory of z:\\Prj\\py\\05_Modul\n",
      "\n",
      "\n",
      " Directory of z:\\Prj\\py\\05_Modul\n",
      "\n"
     ]
    },
    {
     "name": "stderr",
     "output_type": "stream",
     "text": [
      "File Not Found\n"
     ]
    }
   ],
   "source": [
    "%ls #mevcut dosya listemele yapar"
   ]
  },
  {
   "cell_type": "code",
   "execution_count": 2,
   "metadata": {},
   "outputs": [
    {
     "data": {
      "text/plain": [
       "'z:\\\\Prj\\\\py\\\\05_Modul'"
      ]
     },
     "execution_count": 2,
     "metadata": {},
     "output_type": "execute_result"
    }
   ],
   "source": [
    "%pwd #dosya yolunu gösterir. path"
   ]
  },
  {
   "cell_type": "markdown",
   "metadata": {},
   "source": [
    "OS Modulü - Pyton bu komutları tanır"
   ]
  },
  {
   "cell_type": "code",
   "execution_count": 3,
   "metadata": {},
   "outputs": [],
   "source": [
    "import os"
   ]
  },
  {
   "cell_type": "code",
   "execution_count": 4,
   "metadata": {},
   "outputs": [
    {
     "data": {
      "text/plain": [
       "'z:\\\\Prj\\\\py\\\\05_Modul'"
      ]
     },
     "execution_count": 4,
     "metadata": {},
     "output_type": "execute_result"
    }
   ],
   "source": [
    "os.getcwd() #get current directory"
   ]
  },
  {
   "cell_type": "code",
   "execution_count": 5,
   "metadata": {},
   "outputs": [
    {
     "data": {
      "text/plain": [
       "['05_Modul_Dosya_Klasorler.ipynb', '05_Modul_Regex.ipynb']"
      ]
     },
     "execution_count": 5,
     "metadata": {},
     "output_type": "execute_result"
    }
   ],
   "source": [
    "os.listdir() #list directory"
   ]
  },
  {
   "cell_type": "code",
   "execution_count": 6,
   "metadata": {},
   "outputs": [
    {
     "data": {
      "text/plain": [
       "['All Users', 'carec', 'Default', 'Default User', 'desktop.ini', 'Public']"
      ]
     },
     "execution_count": 6,
     "metadata": {},
     "output_type": "execute_result"
    }
   ],
   "source": [
    "os.listdir(\"C:\\\\Users\")"
   ]
  },
  {
   "cell_type": "code",
   "execution_count": 7,
   "metadata": {},
   "outputs": [
    {
     "data": {
      "text/plain": [
       "['All Users', 'carec', 'Default', 'Default User', 'desktop.ini', 'Public']"
      ]
     },
     "execution_count": 7,
     "metadata": {},
     "output_type": "execute_result"
    }
   ],
   "source": [
    "os.chdir(\"C:\\\\Users\") #change directory cd komutu gibi\n",
    "os.listdir()"
   ]
  },
  {
   "cell_type": "code",
   "execution_count": 8,
   "metadata": {},
   "outputs": [
    {
     "data": {
      "text/plain": [
       "['.git',\n",
       " '01_Modul',\n",
       " '02_Modul',\n",
       " '03_Modul',\n",
       " '04_Modul',\n",
       " '05_Modul',\n",
       " '06_Modul',\n",
       " '07_Modul',\n",
       " 'yeni_dosya.txt']"
      ]
     },
     "execution_count": 8,
     "metadata": {},
     "output_type": "execute_result"
    }
   ],
   "source": [
    "os.chdir('z:\\\\Prj\\\\py') # eski haline getirdik\n",
    "os.listdir()"
   ]
  },
  {
   "cell_type": "code",
   "execution_count": 9,
   "metadata": {},
   "outputs": [
    {
     "name": "stdout",
     "output_type": "stream",
     "text": [
      ".git\n",
      "01_Modul\n",
      "02_Modul\n",
      "03_Modul\n",
      "04_Modul\n",
      "05_Modul\n",
      "06_Modul\n",
      "07_Modul\n",
      "yeni_dosya.txt\n"
     ]
    }
   ],
   "source": [
    "dosyalar = os.listdir() #tüm dosyaların adını ekrana bastırmak\n",
    "for eleman in dosyalar:\n",
    "    print(eleman)"
   ]
  },
  {
   "cell_type": "markdown",
   "metadata": {},
   "source": [
    "Yeni eleman oluşturma, isim değiştirme\n"
   ]
  },
  {
   "cell_type": "code",
   "execution_count": 10,
   "metadata": {},
   "outputs": [
    {
     "data": {
      "text/plain": [
       "['.git',\n",
       " '01_Modul',\n",
       " '02_Modul',\n",
       " '03_Modul',\n",
       " '04_Modul',\n",
       " '05_Modul',\n",
       " '06_Modul',\n",
       " '07_Modul',\n",
       " 'deneme',\n",
       " 'yeni_dosya.txt']"
      ]
     },
     "execution_count": 10,
     "metadata": {},
     "output_type": "execute_result"
    }
   ],
   "source": [
    "os.mkdir('z:\\\\Prj\\\\py\\\\deneme') #klasör oluşturma make directory\n",
    "os.listdir()"
   ]
  },
  {
   "cell_type": "code",
   "execution_count": 11,
   "metadata": {},
   "outputs": [
    {
     "data": {
      "text/plain": [
       "['.git',\n",
       " '01_Modul',\n",
       " '02_Modul',\n",
       " '03_Modul',\n",
       " '04_Modul',\n",
       " '05_Modul',\n",
       " '06_Modul',\n",
       " '07_Modul',\n",
       " 'yeni_dosya.txt']"
      ]
     },
     "execution_count": 11,
     "metadata": {},
     "output_type": "execute_result"
    }
   ],
   "source": [
    "os.rmdir('z:\\\\Prj\\\\py\\\\deneme') # remove directory (boşsa)\n",
    "os.listdir()"
   ]
  },
  {
   "cell_type": "markdown",
   "metadata": {},
   "source": [
    "## os.O_RDONLY − Read Only      - Sadece Oku\n",
    "## os.O_WRONLY − Write Only     - Sadece Yaz\n",
    "## os.O_RDWR   − Read and Write - Oku ve Yaz\n",
    "## os.O_CREAT  - Create         - Olustur"
   ]
  },
  {
   "cell_type": "code",
   "execution_count": 12,
   "metadata": {},
   "outputs": [],
   "source": [
    "yeni_dosya = os.open(\"yeni_dosya.txt\",os.O_RDWR|os.O_CREAT) #yeni dosya oluşturma\n",
    "os.write(yeni_dosya,\"Merhaba Dünya\".encode()) #str to byte için encode komutu ancak bazı karakterler görülmeyebilir\n",
    "os.close(yeni_dosya)"
   ]
  },
  {
   "cell_type": "code",
   "execution_count": 1,
   "metadata": {},
   "outputs": [
    {
     "name": "stdout",
     "output_type": "stream",
     "text": [
      "b'Merha'\n",
      "os.stat_result(st_mode=33206, st_ino=3659174697240141, st_dev=1253182805, st_nlink=1, st_uid=0, st_gid=0, st_size=14, st_atime=1664791460, st_mtime=1664791368, st_ctime=1664791445)\n"
     ]
    }
   ],
   "source": [
    "yeni_dosya = os.open(\"yeni_dosya.txt\",os.O_RDONLY) #yeni dosya oluşturma\n",
    "istatistik = os.stat(yeni_dosya) #istatistik verileri okur\n",
    "icerik = os.read(yeni_dosya,5)\n",
    "print(icerik)\n",
    "print(istatistik)\n",
    "os.close(yeni_dosya)"
   ]
  },
  {
   "cell_type": "code",
   "execution_count": 4,
   "metadata": {},
   "outputs": [
    {
     "name": "stdout",
     "output_type": "stream",
     "text": [
      "b'Merhaba D\\xc3\\xbcnya'\n"
     ]
    }
   ],
   "source": [
    "yeni_dosya = os.open(\"yeni_dosya.txt\",os.O_RDONLY) \n",
    "uzunluk = os.stat(yeni_dosya).st_size\n",
    "icerik = os.read(yeni_dosya,uzunluk)\n",
    "print(icerik)\n",
    "os.close(yeni_dosya)#türkçe karakterleri göstermez"
   ]
  },
  {
   "cell_type": "code",
   "execution_count": 5,
   "metadata": {},
   "outputs": [
    {
     "name": "stdout",
     "output_type": "stream",
     "text": [
      "Merhaba Dünya\n"
     ]
    }
   ],
   "source": [
    "yeni_dosya = os.open(\"yeni_dosya.txt\",os.O_RDONLY) \n",
    "uzunluk = os.stat(yeni_dosya).st_size\n",
    "icerik = os.read(yeni_dosya,uzunluk)\n",
    "print(icerik.decode())\n",
    "os.close(yeni_dosya)#türkçe karakterleri gösterir"
   ]
  },
  {
   "cell_type": "code",
   "execution_count": 6,
   "metadata": {},
   "outputs": [],
   "source": [
    "os.unlink(\"yeni_dosya_deneme.txt\") #dosya silmek için"
   ]
  },
  {
   "cell_type": "code",
   "execution_count": 9,
   "metadata": {},
   "outputs": [],
   "source": [
    "os.mkdir(\"deneme_yeni\")\n"
   ]
  },
  {
   "cell_type": "code",
   "execution_count": 10,
   "metadata": {},
   "outputs": [
    {
     "data": {
      "text/plain": [
       "['05_Modul_Dosya_Klasorler.ipynb',\n",
       " '05_Modul_Regex.ipynb',\n",
       " 'deneme_yeni',\n",
       " 'yeni_dosya.txt']"
      ]
     },
     "execution_count": 10,
     "metadata": {},
     "output_type": "execute_result"
    }
   ],
   "source": [
    "os.listdir()"
   ]
  },
  {
   "cell_type": "code",
   "execution_count": null,
   "metadata": {},
   "outputs": [],
   "source": [
    "os.rename(\"deneme_yeni\",\"deneme_eski\")"
   ]
  }
 ],
 "metadata": {
  "kernelspec": {
   "display_name": "Python 3.9.12 ('base')",
   "language": "python",
   "name": "python3"
  },
  "language_info": {
   "codemirror_mode": {
    "name": "ipython",
    "version": 3
   },
   "file_extension": ".py",
   "mimetype": "text/x-python",
   "name": "python",
   "nbconvert_exporter": "python",
   "pygments_lexer": "ipython3",
   "version": "3.9.12"
  },
  "orig_nbformat": 4,
  "vscode": {
   "interpreter": {
    "hash": "e42634819b8c191a5d07eaf23810ff32516dd8d3875f28ec3e488928fbd3c187"
   }
  }
 },
 "nbformat": 4,
 "nbformat_minor": 2
}
