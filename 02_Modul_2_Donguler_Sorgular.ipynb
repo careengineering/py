{
 "cells": [
  {
   "cell_type": "markdown",
   "metadata": {},
   "source": [
    "FOR DÖNGÜLERİ"
   ]
  },
  {
   "cell_type": "code",
   "execution_count": null,
   "metadata": {},
   "outputs": [],
   "source": [
    "yorum_yazanlar=[\"ahmet gel\", \"mehmet koş\", \"ayşe bak\", \"fatma sor\",\"hayriye gör\"]\n",
    "for kisi in yorum_yazanlar:\n",
    "    print(kisi)"
   ]
  },
  {
   "cell_type": "code",
   "execution_count": null,
   "metadata": {},
   "outputs": [],
   "source": [
    "kullanıcı_sayisi = 0\n",
    "for kisi in yorum_yazanlar:\n",
    "    kullanıcı_sayisi = kullanıcı_sayisi + 1\n",
    "    print(kullanıcı_sayisi,\".\",kisi)"
   ]
  },
  {
   "cell_type": "code",
   "execution_count": null,
   "metadata": {},
   "outputs": [],
   "source": [
    "ad = yorum_yazanlar[0].split()[0]\n",
    "soyad = yorum_yazanlar[0].split()[1]\n",
    "# ad, soyad = yorum_yazanlar[0].split()[0], yorum_yazanlar[0].split()[1] ikili atama şekli tavsiye edilmiyor"
   ]
  },
  {
   "cell_type": "code",
   "execution_count": null,
   "metadata": {},
   "outputs": [],
   "source": [
    "kullanıcı_sayisi = 0\n",
    "for kisi in yorum_yazanlar:\n",
    "    kullanıcı_sayisi = kullanıcı_sayisi + 1\n",
    "    ad, soyad = kisi.split()[0], kisi.split()[1]\n",
    "    print(\"{} Adı:{} Soyadı {}\".format(kullanıcı_sayisi,ad,soyad))"
   ]
  },
  {
   "cell_type": "code",
   "execution_count": null,
   "metadata": {},
   "outputs": [],
   "source": [
    "moderator = 'mehmet koş'\n",
    "kullanıcı_sayisi = 0\n",
    "moderator_sayisi=0\n",
    "for kisi in yorum_yazanlar:\n",
    "    ad, soyad = kisi.split()[0], kisi.split()[1]\n",
    "    if (kisi == moderator) :\n",
    "        moderator_sayisi +=1\n",
    "        print(\"{} Moderator Adı:{} Soyadı {}\".format(moderator_sayisi,ad,soyad))\n",
    "    else:\n",
    "        kullanıcı_sayisi += 1\n",
    "        print(\"{} Kullanıcının Adı:{} Soyadı {}\".format(kullanıcı_sayisi,ad,soyad))"
   ]
  },
  {
   "cell_type": "code",
   "execution_count": null,
   "metadata": {},
   "outputs": [],
   "source": [
    "tup1 = (1,3,5,7)\n",
    "for sayi in tup1:\n",
    "    print(sayi)"
   ]
  },
  {
   "cell_type": "code",
   "execution_count": null,
   "metadata": {},
   "outputs": [],
   "source": [
    "liste = [[1,2],[3,4]]\n",
    "for x,y in liste: #alt listedeki eleman sayısına göre x,y,... atanmalı\n",
    "    print(x)"
   ]
  },
  {
   "cell_type": "code",
   "execution_count": null,
   "metadata": {},
   "outputs": [],
   "source": [
    "liste = [[1,2],[3,4],[5,6]]\n",
    "for x,y in liste:\n",
    "    print(x*y)"
   ]
  },
  {
   "cell_type": "code",
   "execution_count": null,
   "metadata": {},
   "outputs": [],
   "source": [
    "kullanici1 = {\n",
    "    'ad' : 'Ayşe',\n",
    "    'soyad' : 'Gel'\n",
    "}\n",
    "kullanici1.items()"
   ]
  },
  {
   "cell_type": "code",
   "execution_count": null,
   "metadata": {},
   "outputs": [],
   "source": [
    "for k,v in kullanici1.items():\n",
    "    print(\"Key : {} \\t Value: {}\".format(k,v))"
   ]
  },
  {
   "cell_type": "code",
   "execution_count": null,
   "metadata": {},
   "outputs": [],
   "source": [
    "for k in kullanici1.keys():\n",
    "    print(\"Key : {}\".format(k))"
   ]
  },
  {
   "cell_type": "markdown",
   "metadata": {},
   "source": [
    "WHILE"
   ]
  },
  {
   "cell_type": "code",
   "execution_count": null,
   "metadata": {},
   "outputs": [],
   "source": [
    "x = 0\n",
    "while x<10 :\n",
    "    print(\"{} değeri 10 dan küçük\".format(x))\n",
    "    x+=1"
   ]
  },
  {
   "cell_type": "code",
   "execution_count": null,
   "metadata": {},
   "outputs": [],
   "source": [
    "x = 0\n",
    "while x<10 :\n",
    "    print(\"{} değeri 10 dan küçük\".format(x))\n",
    "    x+=1\n",
    "else : \n",
    "    print(\"{} değeri 10 dan küçük değil\".format(x))"
   ]
  },
  {
   "cell_type": "code",
   "execution_count": null,
   "metadata": {},
   "outputs": [],
   "source": [
    "fak = 1\n",
    "sayi = 6\n",
    "while sayi>0:\n",
    "    fak *= sayi\n",
    "    sayi -= 1\n",
    "print (\"faktoriyeli {} olarak hesaplanmıştır.\".format(fak))"
   ]
  },
  {
   "cell_type": "markdown",
   "metadata": {},
   "source": [
    "RANGE"
   ]
  },
  {
   "cell_type": "code",
   "execution_count": null,
   "metadata": {},
   "outputs": [],
   "source": [
    "range(10) #0 dan verilen sayıya kadar tam sayılar. 10 hariç\n",
    "print(range(10))\n",
    "print(list(range(10)))"
   ]
  },
  {
   "cell_type": "code",
   "execution_count": null,
   "metadata": {},
   "outputs": [],
   "source": [
    "[*range(10)] #listeye kolay çevirme"
   ]
  },
  {
   "cell_type": "code",
   "execution_count": null,
   "metadata": {},
   "outputs": [],
   "source": [
    "[*range(2,7)]"
   ]
  },
  {
   "cell_type": "code",
   "execution_count": null,
   "metadata": {},
   "outputs": [],
   "source": [
    "[*range(2,7,2)] #2 şer atlar"
   ]
  },
  {
   "cell_type": "code",
   "execution_count": null,
   "metadata": {},
   "outputs": [],
   "source": [
    "for sayi in range(10):\n",
    "    print (sayi)"
   ]
  },
  {
   "cell_type": "markdown",
   "metadata": {},
   "source": [
    "ENUMARATE"
   ]
  },
  {
   "cell_type": "code",
   "execution_count": null,
   "metadata": {},
   "outputs": [],
   "source": [
    "harfler = [\"a\",\"b\",\"c\",\"d\",\"e\"]\n",
    "for harf in enumerate(harfler):\n",
    "    print(harf)"
   ]
  },
  {
   "cell_type": "code",
   "execution_count": null,
   "metadata": {},
   "outputs": [],
   "source": [
    "harfler = [\"a\",\"b\",\"c\",\"d\",\"e\"]\n",
    "for index, harf in enumerate(harfler):\n",
    "    print(\"{}.harf:{}\".format(index+1,harf))"
   ]
  },
  {
   "cell_type": "code",
   "execution_count": null,
   "metadata": {},
   "outputs": [],
   "source": [
    "ulkeler = [\"tr\",\"en\",\"de\"]\n",
    "siramalar = range (1,4)\n",
    "for ulke in zip(ulkeler,siramalar): #ziplemek için eleman sayısı aynı olmalı\n",
    "    print(ulke)"
   ]
  },
  {
   "cell_type": "code",
   "execution_count": 6,
   "metadata": {},
   "outputs": [
    {
     "name": "stdout",
     "output_type": "stream",
     "text": [
      "c harfi 2. indexte\n"
     ]
    }
   ],
   "source": [
    "harfler = [\"a\",\"b\",\"c\",\"d\",\"e\"] * 100\n",
    "for index, harf in enumerate(harfler):\n",
    "    if harf == \"c\":\n",
    "        print(\"{} harfi {}. indexte\".format(harf,index))\n",
    "        break #döngüden çıkması gerektiğini söyler"
   ]
  },
  {
   "cell_type": "code",
   "execution_count": 7,
   "metadata": {},
   "outputs": [
    {
     "name": "stdout",
     "output_type": "stream",
     "text": [
      "1\n",
      "3\n",
      "5\n"
     ]
    }
   ],
   "source": [
    "for sayi in range(1,6):\n",
    "    if sayi%2 == 0 : #çift sayı sorgulama\n",
    "        continue #hiçbirşey yapma devam et\n",
    "    print(sayi)"
   ]
  },
  {
   "cell_type": "code",
   "execution_count": 9,
   "metadata": {},
   "outputs": [
    {
     "name": "stdout",
     "output_type": "stream",
     "text": [
      "1\n",
      "3\n",
      "5\n"
     ]
    }
   ],
   "source": [
    "for sayi in range(1,6):\n",
    "    if sayi%2 != 0 : \n",
    "        print(sayi)"
   ]
  },
  {
   "cell_type": "code",
   "execution_count": 10,
   "metadata": {},
   "outputs": [
    {
     "name": "stdout",
     "output_type": "stream",
     "text": [
      "1\n",
      "3\n",
      "5\n"
     ]
    }
   ],
   "source": [
    "for sayi in range(1,6):\n",
    "    if sayi%2 == 0 : #çift sayı sorgulama\n",
    "        pass \n",
    "    else:\n",
    "        print(sayi)"
   ]
  },
  {
   "cell_type": "code",
   "execution_count": 11,
   "metadata": {},
   "outputs": [
    {
     "name": "stdout",
     "output_type": "stream",
     "text": [
      "hey\n"
     ]
    }
   ],
   "source": [
    "if sayi < 5:\n",
    "    pass #daha oluşturmadığın kod bloğunda orayı geçmesi içinde kullanılabiliryor.\n",
    "else:\n",
    "    print(\"hey\")"
   ]
  }
 ],
 "metadata": {
  "kernelspec": {
   "display_name": "Python 3.9.12 ('base')",
   "language": "python",
   "name": "python3"
  },
  "language_info": {
   "codemirror_mode": {
    "name": "ipython",
    "version": 3
   },
   "file_extension": ".py",
   "mimetype": "text/x-python",
   "name": "python",
   "nbconvert_exporter": "python",
   "pygments_lexer": "ipython3",
   "version": "3.9.12"
  },
  "orig_nbformat": 4,
  "vscode": {
   "interpreter": {
    "hash": "ad4230dcc985a6694447830c7503112868e55c5b8e7e9400fedb750133391ec9"
   }
  }
 },
 "nbformat": 4,
 "nbformat_minor": 2
}
