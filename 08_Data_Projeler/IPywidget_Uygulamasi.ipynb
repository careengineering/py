{
 "cells": [
  {
   "cell_type": "code",
   "execution_count": 1,
   "metadata": {},
   "outputs": [],
   "source": [
    "# Python - Data Projeler: IPywidget Uygulaması\n",
    "# https://medium.com/@yakinkampus2/python-data-projeler-ipywidgets-destekli-basit-veri-analizi-a90b2d98ffe0\n",
    "\n",
    "#Widgets:\n",
    "import ipywidgets as widgets\n",
    "\n",
    "#CSV/DataFrame\n",
    "import pandas as pd\n",
    "import numpy as np\n",
    "from io import StringIO\n",
    "\n",
    "#Drawing:\n",
    "import matplotlib.pyplot as plt\n",
    "%matplotlib inline"
   ]
  },
  {
   "cell_type": "code",
   "execution_count": 3,
   "metadata": {},
   "outputs": [
    {
     "data": {
      "application/vnd.jupyter.widget-view+json": {
       "model_id": "6b6d64a7100440f898b686b1470584a2",
       "version_major": 2,
       "version_minor": 0
      },
      "text/plain": [
       "Tab(children=(Label(value=''), Label(value=''), Label(value='')), _titles={'0': 'Upload', '1': 'Describer', '2…"
      ]
     },
     "metadata": {},
     "output_type": "display_data"
    }
   ],
   "source": [
    "#Tabs\n",
    "tab = widgets.Tab()\n",
    "placeholder = widgets.Label()\n",
    "tab.children = [placeholder,placeholder,placeholder]\n",
    "tab.set_title(0, \"Upload\")\n",
    "tab.set_title(1, \"Describer\")\n",
    "tab.set_title(2, \"Plotter\")\n",
    "tab"
   ]
  },
  {
   "cell_type": "code",
   "execution_count": 4,
   "metadata": {},
   "outputs": [
    {
     "data": {
      "application/vnd.jupyter.widget-view+json": {
       "model_id": "930cb3d27c294077b702d5e72463177d",
       "version_major": 2,
       "version_minor": 0
      },
      "text/plain": [
       "FileUpload(value={}, description='Upload')"
      ]
     },
     "metadata": {},
     "output_type": "display_data"
    }
   ],
   "source": [
    "#FileUpload Widget\n",
    "up = widgets.FileUpload(accept=\"\", multiple=False)\n",
    "up"
   ]
  },
  {
   "cell_type": "code",
   "execution_count": 6,
   "metadata": {},
   "outputs": [
    {
     "data": {
      "application/vnd.jupyter.widget-view+json": {
       "model_id": "6b6d64a7100440f898b686b1470584a2",
       "version_major": 2,
       "version_minor": 0
      },
      "text/plain": [
       "Tab(children=(FileUpload(value={}, description='Upload'), Output(layout=Layout(border='1px solid black')), Out…"
      ]
     },
     "metadata": {},
     "output_type": "display_data"
    }
   ],
   "source": [
    "#Output Widget\n",
    "\n",
    "out = widgets.Output(layout={'border': '1px solid black'})\n",
    "tab.children = (up,out,out)\n",
    "tab"
   ]
  },
  {
   "cell_type": "code",
   "execution_count": null,
   "metadata": {},
   "outputs": [],
   "source": []
  },
  {
   "cell_type": "code",
   "execution_count": null,
   "metadata": {},
   "outputs": [],
   "source": []
  }
 ],
 "metadata": {
  "kernelspec": {
   "display_name": "Python 3.9.12 ('base')",
   "language": "python",
   "name": "python3"
  },
  "language_info": {
   "codemirror_mode": {
    "name": "ipython",
    "version": 3
   },
   "file_extension": ".py",
   "mimetype": "text/x-python",
   "name": "python",
   "nbconvert_exporter": "python",
   "pygments_lexer": "ipython3",
   "version": "3.9.12"
  },
  "orig_nbformat": 4,
  "vscode": {
   "interpreter": {
    "hash": "e42634819b8c191a5d07eaf23810ff32516dd8d3875f28ec3e488928fbd3c187"
   }
  }
 },
 "nbformat": 4,
 "nbformat_minor": 2
}
