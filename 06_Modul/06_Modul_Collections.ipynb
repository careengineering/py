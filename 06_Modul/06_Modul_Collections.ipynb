{
 "cells": [
  {
   "cell_type": "markdown",
   "metadata": {},
   "source": [
    "Collections module"
   ]
  },
  {
   "cell_type": "code",
   "execution_count": 4,
   "metadata": {},
   "outputs": [],
   "source": [
    "from collections import Counter #tüm kolleksiyon yerine kolleksiyon içerisinden istediğimiz modülü import edebiliriz\n",
    "import random"
   ]
  },
  {
   "cell_type": "code",
   "execution_count": 7,
   "metadata": {},
   "outputs": [
    {
     "name": "stdout",
     "output_type": "stream",
     "text": [
      "[[1, 5, 6, 0], [2, 6, 7, 5], [2, 8, 6, 3], [7, 5, 4, 1]]\n",
      "[1, 5, 6, 0, 2, 6, 7, 5, 2, 8, 6, 3, 7, 5, 4, 1]\n"
     ]
    }
   ],
   "source": [
    "list1 = random.sample(range(10), k=4) \n",
    "list2 = random.sample(range(10), k=4) \n",
    "list3 = random.sample(range(10), k=4) \n",
    "list4 = random.sample(range(10), k=4) \n",
    "\n",
    "liste_listesi = [list1, list2, list3, list4]\n",
    "list_toplam = list1 +list2+ list3 + list4\n",
    "\n",
    "print(liste_listesi)\n",
    "print(list_toplam)"
   ]
  },
  {
   "cell_type": "code",
   "execution_count": 9,
   "metadata": {},
   "outputs": [
    {
     "name": "stdout",
     "output_type": "stream",
     "text": [
      "1.liste \t [1, 5, 6, 0]\n",
      "2.liste \t [2, 6, 7, 5]\n",
      "3.liste \t [2, 8, 6, 3]\n",
      "4.liste \t [7, 5, 4, 1]\n"
     ]
    },
    {
     "data": {
      "text/plain": [
       "Counter({1: 2, 5: 3, 6: 3, 0: 1, 2: 2, 7: 2, 8: 1, 3: 1, 4: 1})"
      ]
     },
     "execution_count": 9,
     "metadata": {},
     "output_type": "execute_result"
    }
   ],
   "source": [
    "for index, liste in enumerate(liste_listesi):\n",
    "    print (\"{}.liste \\t {}\".format(index+1,liste))\n",
    "Counter(list_toplam) #0 elemanından kaç tane var 1 den kaç tane var gibi bunun verir"
   ]
  },
  {
   "cell_type": "code",
   "execution_count": 10,
   "metadata": {},
   "outputs": [
    {
     "data": {
      "text/plain": [
       "Counter({'s': 3,\n",
       "         'd': 3,\n",
       "         'g': 1,\n",
       "         'k': 3,\n",
       "         'j': 2,\n",
       "         'f': 1,\n",
       "         'h': 1,\n",
       "         'ş': 1,\n",
       "         'l': 1,\n",
       "         'n': 1,\n",
       "         'm': 1,\n",
       "         'r': 1})"
      ]
     },
     "execution_count": 10,
     "metadata": {},
     "output_type": "execute_result"
    }
   ],
   "source": [
    "Counter(\"sdgdkjfhşlknmsjrksd\")"
   ]
  },
  {
   "cell_type": "code",
   "execution_count": 12,
   "metadata": {},
   "outputs": [
    {
     "data": {
      "text/plain": [
       "Counter({'Y': 4,\n",
       "         'i': 6,\n",
       "         'n': 12,\n",
       "         'e': 10,\n",
       "         ' ': 12,\n",
       "         'b': 4,\n",
       "         'a': 12,\n",
       "         'g': 2,\n",
       "         'l': 2,\n",
       "         '\\n': 3,\n",
       "         'y': 4,\n",
       "         's': 2,\n",
       "         'v': 2})"
      ]
     },
     "execution_count": 12,
     "metadata": {},
     "output_type": "execute_result"
    }
   ],
   "source": [
    "# Yine bana gel\n",
    "# Yana yana yine beni sev\n",
    "# Yine bana gel\n",
    "# Yana yana yine beni sev\n",
    "# orjinal metni kopyalayınca alt satırı program tanımaz. bunun için \" işaretine üç kez basıp metni kopyalayabilirsin\n",
    "# çok satırlı stringler için\n",
    "\n",
    "sarki = \"\"\"Yine bana gel\n",
    "Yana yana yine beni sev\n",
    "Yine bana gel\n",
    "Yana yana yine beni sev\"\"\"\n",
    "\n",
    "Counter(sarki)"
   ]
  },
  {
   "cell_type": "code",
   "execution_count": 13,
   "metadata": {},
   "outputs": [
    {
     "data": {
      "text/plain": [
       "Counter({'Yine': 2,\n",
       "         'bana': 2,\n",
       "         'gel': 2,\n",
       "         'Yana': 2,\n",
       "         'yana': 2,\n",
       "         'yine': 2,\n",
       "         'beni': 2,\n",
       "         'sev': 2})"
      ]
     },
     "execution_count": 13,
     "metadata": {},
     "output_type": "execute_result"
    }
   ],
   "source": [
    "Counter(sarki.split())"
   ]
  },
  {
   "cell_type": "code",
   "execution_count": 14,
   "metadata": {},
   "outputs": [
    {
     "data": {
      "text/plain": [
       "Counter({'yine': 4, 'bana': 2, 'gel': 2, 'yana': 4, 'beni': 2, 'sev': 2})"
      ]
     },
     "execution_count": 14,
     "metadata": {},
     "output_type": "execute_result"
    }
   ],
   "source": [
    "Counter(sarki.lower().split())"
   ]
  },
  {
   "cell_type": "code",
   "execution_count": 16,
   "metadata": {},
   "outputs": [
    {
     "data": {
      "text/plain": [
       "[('yine', 4)]"
      ]
     },
     "execution_count": 16,
     "metadata": {},
     "output_type": "execute_result"
    }
   ],
   "source": [
    "Counter(sarki.lower().split()).most_common(1) #en fazla kullanılan kelime - ilk gördüğü"
   ]
  },
  {
   "cell_type": "code",
   "execution_count": 17,
   "metadata": {},
   "outputs": [
    {
     "data": {
      "text/plain": [
       "[('yine', 4), ('yana', 4)]"
      ]
     },
     "execution_count": 17,
     "metadata": {},
     "output_type": "execute_result"
    }
   ],
   "source": [
    "Counter(sarki.lower().split()).most_common(2) #en fazla kullanılan 2 kelime"
   ]
  }
 ],
 "metadata": {
  "kernelspec": {
   "display_name": "Python 3.9.12 ('base')",
   "language": "python",
   "name": "python3"
  },
  "language_info": {
   "codemirror_mode": {
    "name": "ipython",
    "version": 3
   },
   "file_extension": ".py",
   "mimetype": "text/x-python",
   "name": "python",
   "nbconvert_exporter": "python",
   "pygments_lexer": "ipython3",
   "version": "3.9.12"
  },
  "orig_nbformat": 4,
  "vscode": {
   "interpreter": {
    "hash": "ad4230dcc985a6694447830c7503112868e55c5b8e7e9400fedb750133391ec9"
   }
  }
 },
 "nbformat": 4,
 "nbformat_minor": 2
}
