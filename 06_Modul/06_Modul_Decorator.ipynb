{
 "cells": [
  {
   "cell_type": "markdown",
   "metadata": {},
   "source": [
    "Decarator prensibi\n",
    "@decorator\n",
    "def ...\n"
   ]
  },
  {
   "cell_type": "code",
   "execution_count": 30,
   "metadata": {},
   "outputs": [
    {
     "name": "stdout",
     "output_type": "stream",
     "text": [
      "abc\n"
     ]
    }
   ],
   "source": [
    "def deneme():\n",
    "    print(\"abc\")\n",
    "\n",
    "deneme()"
   ]
  },
  {
   "cell_type": "code",
   "execution_count": 31,
   "metadata": {},
   "outputs": [
    {
     "name": "stdout",
     "output_type": "stream",
     "text": [
      "abc\n"
     ]
    }
   ],
   "source": [
    "f = deneme\n",
    "f() #fonksiyona değişken atanabilir"
   ]
  },
  {
   "cell_type": "code",
   "execution_count": 32,
   "metadata": {},
   "outputs": [
    {
     "name": "stdout",
     "output_type": "stream",
     "text": [
      "deneme fonksiyonu çalışıyor\n",
      "test fonksiyonu çalışıyor\n"
     ]
    }
   ],
   "source": [
    "def deneme():\n",
    "    print(\"deneme fonksiyonu çalışıyor\")\n",
    "\n",
    "    def test():\n",
    "        return \"test fonksiyonu çalışıyor\"\n",
    "\n",
    "    print(test())\n",
    "\n",
    "deneme()"
   ]
  },
  {
   "cell_type": "code",
   "execution_count": 33,
   "metadata": {},
   "outputs": [
    {
     "name": "stdout",
     "output_type": "stream",
     "text": [
      "deneme fonksiyonu çalışıyor\n"
     ]
    },
    {
     "data": {
      "text/plain": [
       "<function __main__.deneme.<locals>.test()>"
      ]
     },
     "execution_count": 33,
     "metadata": {},
     "output_type": "execute_result"
    }
   ],
   "source": [
    "def deneme():\n",
    "    print(\"deneme fonksiyonu çalışıyor\")\n",
    "\n",
    "    def test():\n",
    "        return \"test fonksiyonu çalışıyor\"\n",
    "\n",
    "    return test\n",
    "\n",
    "deneme()"
   ]
  },
  {
   "cell_type": "code",
   "execution_count": 34,
   "metadata": {},
   "outputs": [
    {
     "name": "stdout",
     "output_type": "stream",
     "text": [
      "deneme fonksiyonu çalışıyor\n"
     ]
    },
    {
     "data": {
      "text/plain": [
       "'test fonksiyonu çalışıyor'"
      ]
     },
     "execution_count": 34,
     "metadata": {},
     "output_type": "execute_result"
    }
   ],
   "source": [
    "f = deneme()\n",
    "f()  #return edildiği için tırnak işareti gösterir"
   ]
  },
  {
   "cell_type": "code",
   "execution_count": 35,
   "metadata": {},
   "outputs": [],
   "source": [
    "def deneme():\n",
    "    return \"deneme fonksiyonu çalışıyor\""
   ]
  },
  {
   "cell_type": "code",
   "execution_count": 36,
   "metadata": {},
   "outputs": [],
   "source": [
    "def ikinci(f):\n",
    "    print(\"ikinci fonksiyon çalışıyor\")\n",
    "    \n",
    "    print(f())"
   ]
  },
  {
   "cell_type": "code",
   "execution_count": 37,
   "metadata": {},
   "outputs": [
    {
     "name": "stdout",
     "output_type": "stream",
     "text": [
      "ikinci fonksiyon çalışıyor\n",
      "deneme fonksiyonu çalışıyor\n"
     ]
    }
   ],
   "source": [
    "ikinci(deneme)"
   ]
  },
  {
   "cell_type": "code",
   "execution_count": 38,
   "metadata": {},
   "outputs": [
    {
     "name": "stdout",
     "output_type": "stream",
     "text": [
      "Başlangıç\n",
      "yazdir\n",
      "Bitiş\n"
     ]
    }
   ],
   "source": [
    "def deco(f):\n",
    "    def wrapper():\n",
    "        print(\"Başlangıç\") #ambalajlama fonksiyonu\n",
    "        f()\n",
    "        print(\"Bitiş\")\n",
    "    return wrapper\n",
    "\n",
    "def yazdir():\n",
    "    print(\"yazdir\")\n",
    "\n",
    "def yazdir2():\n",
    "    print(\"yazdir2\")\n",
    "\n",
    "yazdir = deco (yazdir)\n",
    "yazdir2 = deco (yazdir2)\n",
    "\n",
    "yazdir()\n"
   ]
  },
  {
   "cell_type": "code",
   "execution_count": 39,
   "metadata": {},
   "outputs": [
    {
     "name": "stdout",
     "output_type": "stream",
     "text": [
      "Başlangıç\n",
      "yazdir2\n",
      "Bitiş\n"
     ]
    }
   ],
   "source": [
    "yazdir2()"
   ]
  },
  {
   "cell_type": "code",
   "execution_count": 40,
   "metadata": {},
   "outputs": [
    {
     "name": "stdout",
     "output_type": "stream",
     "text": [
      "Başlangıç\n",
      "yazdir\n",
      "Bitiş\n"
     ]
    }
   ],
   "source": [
    "@deco\n",
    "\n",
    "def yazdir():\n",
    "    print(\"yazdir\")\n",
    "\n",
    "yazdir()"
   ]
  },
  {
   "cell_type": "code",
   "execution_count": 41,
   "metadata": {},
   "outputs": [
    {
     "ename": "TypeError",
     "evalue": "wrapper() takes 0 positional arguments but 2 were given",
     "output_type": "error",
     "traceback": [
      "\u001b[0;31m---------------------------------------------------------------------------\u001b[0m",
      "\u001b[0;31mTypeError\u001b[0m                                 Traceback (most recent call last)",
      "\u001b[1;32m/Users/care/Documents/Projeler/py/06_Modul/06_Modul_Decorator.ipynb Cell 13\u001b[0m in \u001b[0;36m<cell line: 5>\u001b[0;34m()\u001b[0m\n\u001b[1;32m      <a href='vscode-notebook-cell:/Users/care/Documents/Projeler/py/06_Modul/06_Modul_Decorator.ipynb#X15sZmlsZQ%3D%3D?line=0'>1</a>\u001b[0m \u001b[39m@deco\u001b[39m\n\u001b[1;32m      <a href='vscode-notebook-cell:/Users/care/Documents/Projeler/py/06_Modul/06_Modul_Decorator.ipynb#X15sZmlsZQ%3D%3D?line=1'>2</a>\u001b[0m \u001b[39mdef\u001b[39;00m \u001b[39mtoplama\u001b[39m (a,b):\n\u001b[1;32m      <a href='vscode-notebook-cell:/Users/care/Documents/Projeler/py/06_Modul/06_Modul_Decorator.ipynb#X15sZmlsZQ%3D%3D?line=2'>3</a>\u001b[0m     \u001b[39mprint\u001b[39m (a\u001b[39m+\u001b[39mb)\n\u001b[0;32m----> <a href='vscode-notebook-cell:/Users/care/Documents/Projeler/py/06_Modul/06_Modul_Decorator.ipynb#X15sZmlsZQ%3D%3D?line=4'>5</a>\u001b[0m toplama(\u001b[39m4\u001b[39;49m,\u001b[39m5\u001b[39;49m)\n",
      "\u001b[0;31mTypeError\u001b[0m: wrapper() takes 0 positional arguments but 2 were given"
     ]
    }
   ],
   "source": [
    "@deco\n",
    "def toplama (a,b):\n",
    "    print (a+b)\n",
    "\n",
    "toplama(4,5)\n"
   ]
  },
  {
   "cell_type": "code",
   "execution_count": null,
   "metadata": {},
   "outputs": [
    {
     "name": "stdout",
     "output_type": "stream",
     "text": [
      "Başlangıç\n",
      "9\n",
      "Bitiş\n"
     ]
    }
   ],
   "source": [
    "def deco(f):\n",
    "    def wrapper(*args):\n",
    "        print(\"Başlangıç\") #ambalajlama fonksiyonu\n",
    "        f(*args)\n",
    "        print(\"Bitiş\")\n",
    "    return wrapper\n",
    "\n",
    "@deco\n",
    "def toplama (a,b):\n",
    "    print (a+b)\n",
    "\n",
    "toplama(4,5)"
   ]
  },
  {
   "cell_type": "code",
   "execution_count": null,
   "metadata": {},
   "outputs": [
    {
     "name": "stdout",
     "output_type": "stream",
     "text": [
      "İlk\n",
      "9\n",
      "Sonuç\n"
     ]
    }
   ],
   "source": [
    "def deco(msg1, msg2):\n",
    "    def ara_katman(f):\n",
    "        def wrapper(*args):\n",
    "            print(msg1) \n",
    "            f(*args)\n",
    "            print(msg2)\n",
    "        return wrapper\n",
    "    return ara_katman\n",
    "\n",
    "@deco(\"İlk\",\"Sonuç\")\n",
    "def toplama (a,b):\n",
    "    print (a+b)\n",
    "\n",
    "toplama(4,5)"
   ]
  },
  {
   "cell_type": "markdown",
   "metadata": {},
   "source": [
    "Örnek - Süre Ölçümlenmesi"
   ]
  },
  {
   "cell_type": "code",
   "execution_count": null,
   "metadata": {},
   "outputs": [
    {
     "data": {
      "text/plain": [
       "3.6716461181640625e-05"
      ]
     },
     "execution_count": 27,
     "metadata": {},
     "output_type": "execute_result"
    }
   ],
   "source": [
    "import time\n",
    "\n",
    "baslangic = time.time()\n",
    "f()\n",
    "bitis = time.time()\n",
    "bitis-baslangic\n"
   ]
  },
  {
   "cell_type": "code",
   "execution_count": null,
   "metadata": {},
   "outputs": [],
   "source": [
    "def sure_olc(f):\n",
    "    def wrapper(*args):\n",
    "\n",
    "        baslangic = time.time()\n",
    "        print(\"Başlangıç Zamanı:\\t{}\".format(baslangic))\n",
    "\n",
    "        f(*args)\n",
    "\n",
    "        bitis = time.time()\n",
    "        print(\"Bitiş Zamanı:\\t{}\".format(bitis))\n",
    "\n",
    "        print(\"Geçen Zaman:\\t{}\".format(bitis-baslangic))\n",
    "\n",
    "    return wrapper"
   ]
  },
  {
   "cell_type": "code",
   "execution_count": null,
   "metadata": {},
   "outputs": [
    {
     "name": "stdout",
     "output_type": "stream",
     "text": [
      "Başlangıç Zamanı:\t1667056525.2938209\n",
      "93326215443944152681699238856266700490715968264381621468592963895217599993229915608941463976156518286253697920827223758251185210916864000000000000000000000000\n",
      "Bitiş Zamanı:\t1667056525.293897\n",
      "Geçen Zaman:\t7.605552673339844e-05\n"
     ]
    }
   ],
   "source": [
    "@sure_olc\n",
    "def faktoriyel(sayi):\n",
    "    toplam = 1\n",
    "    while sayi>1:\n",
    "        toplam = toplam * sayi\n",
    "        sayi = sayi - 1\n",
    "    print(toplam)\n",
    "\n",
    "faktoriyel(100000)\n"
   ]
  },
  {
   "cell_type": "code",
   "execution_count": null,
   "metadata": {},
   "outputs": [],
   "source": []
  },
  {
   "cell_type": "code",
   "execution_count": null,
   "metadata": {},
   "outputs": [],
   "source": []
  },
  {
   "cell_type": "code",
   "execution_count": null,
   "metadata": {},
   "outputs": [],
   "source": []
  },
  {
   "cell_type": "code",
   "execution_count": null,
   "metadata": {},
   "outputs": [],
   "source": []
  }
 ],
 "metadata": {
  "kernelspec": {
   "display_name": "Python 3.9.12 ('base')",
   "language": "python",
   "name": "python3"
  },
  "language_info": {
   "codemirror_mode": {
    "name": "ipython",
    "version": 3
   },
   "file_extension": ".py",
   "mimetype": "text/x-python",
   "name": "python",
   "nbconvert_exporter": "python",
   "pygments_lexer": "ipython3",
   "version": "3.9.12"
  },
  "orig_nbformat": 4,
  "vscode": {
   "interpreter": {
    "hash": "ad4230dcc985a6694447830c7503112868e55c5b8e7e9400fedb750133391ec9"
   }
  }
 },
 "nbformat": 4,
 "nbformat_minor": 2
}
