{
 "cells": [
  {
   "cell_type": "code",
   "execution_count": 2,
   "metadata": {},
   "outputs": [
    {
     "name": "stdout",
     "output_type": "stream",
     "text": [
      "şemsiye al\n"
     ]
    }
   ],
   "source": [
    "# Kullanım senaryosu - 1\n",
    "hava_durumu=\"yağışlı\"\n",
    "if hava_durumu==\"yağışlı\":\n",
    "    print(\"şemsiye al\")"
   ]
  },
  {
   "cell_type": "code",
   "execution_count": 3,
   "metadata": {},
   "outputs": [
    {
     "name": "stdout",
     "output_type": "stream",
     "text": [
      "palto al\n"
     ]
    }
   ],
   "source": [
    "# Kullanım senaryosu - 2\n",
    "hava_durumu=\"kar\"\n",
    "if hava_durumu==\"yağışlı\":\n",
    "    print(\"şemsiye al\")\n",
    "else : \n",
    "    print(\"palto al\")"
   ]
  },
  {
   "cell_type": "code",
   "execution_count": 4,
   "metadata": {},
   "outputs": [
    {
     "name": "stdout",
     "output_type": "stream",
     "text": [
      "atkı al\n"
     ]
    }
   ],
   "source": [
    "# Kullanım senaryosu - 3\n",
    "hava_durumu=\"kar\"\n",
    "if hava_durumu==\"yağışlı\":\n",
    "    print(\"şemsiye al\")\n",
    "elif hava_durumu ==\"kar\" :\n",
    "    print(\"atkı al\")\n",
    "else : \n",
    "    print(\"palto al\")"
   ]
  },
  {
   "cell_type": "code",
   "execution_count": 5,
   "metadata": {},
   "outputs": [
    {
     "name": "stdout",
     "output_type": "stream",
     "text": [
      "sen buraya ait değilsin\n"
     ]
    }
   ],
   "source": [
    "yas = 16\n",
    "if yas > 18:\n",
    "    print(\"Selam\")\n",
    "else : print (\"sen buraya ait değilsin\")"
   ]
  },
  {
   "cell_type": "code",
   "execution_count": 6,
   "metadata": {},
   "outputs": [
    {
     "name": "stdout",
     "output_type": "stream",
     "text": [
      "listeye eklendi\n",
      "Güncel liste ['a', 'b', 'c', 'd']\n"
     ]
    }
   ],
   "source": [
    "liste = ['a','b','c']\n",
    "hedef_harf ='d'\n",
    "if hedef_harf in liste:\n",
    "    print (\"yok\")\n",
    "else :\n",
    "    liste.append(hedef_harf)\n",
    "\n",
    "    print(\"listeye eklendi\")\n",
    "    print(\"Güncel liste {}\".format(liste))\n",
    "    "
   ]
  },
  {
   "cell_type": "code",
   "execution_count": 7,
   "metadata": {},
   "outputs": [
    {
     "name": "stdout",
     "output_type": "stream",
     "text": [
      "buldum ama ilk değil\n"
     ]
    }
   ],
   "source": [
    "if (hedef_harf in liste) and hedef_harf == liste[0]:\n",
    "    print (\"yok\")\n",
    "elif hedef_harf in liste :\n",
    "    print (\"buldum ama ilk değil\")\n",
    "else :\n",
    "    liste.append(hedef_harf)\n",
    "\n",
    "    print(\"listeye eklendi\")\n",
    "    print(\"Güncel liste {}\".format(liste))"
   ]
  },
  {
   "cell_type": "code",
   "execution_count": null,
   "metadata": {},
   "outputs": [],
   "source": []
  },
  {
   "cell_type": "code",
   "execution_count": null,
   "metadata": {},
   "outputs": [],
   "source": []
  }
 ],
 "metadata": {
  "kernelspec": {
   "display_name": "Python 3.9.12 ('base')",
   "language": "python",
   "name": "python3"
  },
  "language_info": {
   "codemirror_mode": {
    "name": "ipython",
    "version": 3
   },
   "file_extension": ".py",
   "mimetype": "text/x-python",
   "name": "python",
   "nbconvert_exporter": "python",
   "pygments_lexer": "ipython3",
   "version": "3.9.12"
  },
  "orig_nbformat": 4,
  "vscode": {
   "interpreter": {
    "hash": "ad4230dcc985a6694447830c7503112868e55c5b8e7e9400fedb750133391ec9"
   }
  }
 },
 "nbformat": 4,
 "nbformat_minor": 2
}
