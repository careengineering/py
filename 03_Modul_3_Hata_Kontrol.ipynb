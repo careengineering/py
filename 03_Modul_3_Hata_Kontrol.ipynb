{
 "cells": [
  {
   "cell_type": "code",
   "execution_count": 14,
   "metadata": {},
   "outputs": [
    {
     "data": {
      "text/plain": [
       "2"
      ]
     },
     "execution_count": 14,
     "metadata": {},
     "output_type": "execute_result"
    }
   ],
   "source": [
    "round(1.6) #yuvarlama\n"
   ]
  },
  {
   "cell_type": "code",
   "execution_count": 15,
   "metadata": {},
   "outputs": [
    {
     "name": "stdout",
     "output_type": "stream",
     "text": [
      "Yuvarlama işleminin sonucu: 1\n"
     ]
    }
   ],
   "source": [
    "# veri olarak a girilirse uygulama hataya düşer bunun için \n",
    "def tam_sayiya_cevir():\n",
    "    girdi = input (\"Ondalık sayı giriniz:\")\n",
    "    print(\"Yuvarlama işleminin sonucu: {}\".format(round(float(girdi))))\n",
    "\n",
    "tam_sayiya_cevir()"
   ]
  },
  {
   "cell_type": "code",
   "execution_count": 16,
   "metadata": {},
   "outputs": [
    {
     "name": "stdout",
     "output_type": "stream",
     "text": [
      "Yuvarlama işleminin sonucu: 1\n"
     ]
    }
   ],
   "source": [
    "def tam_sayiya_cevir():\n",
    "    girdi = input (\"Ondalık sayı giriniz:\")\n",
    "    try:\n",
    "        girdi = float(girdi)\n",
    "        print(\"Yuvarlama işleminin sonucu: {}\".format(round(girdi)))\n",
    "    except:\n",
    "        print(\"{} girdisi ondalık tipe çevrilemiyor\".format(girdi))\n",
    "    \n",
    "\n",
    "tam_sayiya_cevir()"
   ]
  },
  {
   "cell_type": "code",
   "execution_count": 17,
   "metadata": {},
   "outputs": [
    {
     "name": "stdout",
     "output_type": "stream",
     "text": [
      "Yuvarlama işleminin sonucu: 1\n"
     ]
    }
   ],
   "source": [
    "#yukarıdakiyle aynı else eklendi\n",
    "def tam_sayiya_cevir():\n",
    "    girdi = input (\"Ondalık sayı giriniz:\")\n",
    "    try:\n",
    "        girdi = float(girdi)\n",
    "    except:\n",
    "        print(\"{} girdisi ondalık tipe çevrilemiyor\".format(girdi))\n",
    "    else:\n",
    "        print(\"Yuvarlama işleminin sonucu: {}\".format(round(girdi)))\n",
    "    \n",
    "\n",
    "tam_sayiya_cevir()"
   ]
  },
  {
   "cell_type": "code",
   "execution_count": 18,
   "metadata": {},
   "outputs": [
    {
     "name": "stdout",
     "output_type": "stream",
     "text": [
      "Yuvarlama işleminin sonucu: 1\n",
      "Tam sayıya çevirme işlemi başarılı olarak tamamlandı\n"
     ]
    }
   ],
   "source": [
    "def tam_sayiya_cevir():\n",
    "    girdi = input (\"Ondalık sayı giriniz:\")\n",
    "    status = \"\"\n",
    "    try:\n",
    "        girdi = float(girdi)\n",
    "        print(\"Yuvarlama işleminin sonucu: {}\".format(round(girdi)))\n",
    "        status = \"başarılı\"\n",
    "    except:\n",
    "        print(\"{} girdisi ondalık tipe çevrilemiyor\".format(girdi))\n",
    "        status = \"başarısız\"\n",
    "    finally:\n",
    "        print(\"Tam sayıya çevirme işlemi {} olarak tamamlandı\".format(status))\n",
    "    \n",
    "\n",
    "tam_sayiya_cevir()"
   ]
  },
  {
   "cell_type": "code",
   "execution_count": 19,
   "metadata": {},
   "outputs": [
    {
     "name": "stdout",
     "output_type": "stream",
     "text": [
      "Yuvarlama işleminin sonucu: 1\n"
     ]
    }
   ],
   "source": [
    "# veri doğru girilene kadar dongu devam eder.\n",
    "def tam_sayiya_cevir_dongu():\n",
    "    while True:\n",
    "        girdi = input (\"Ondalık sayı giriniz:\")\n",
    "\n",
    "        try:\n",
    "            girdi = float(girdi)\n",
    "            print(\"Yuvarlama işleminin sonucu: {}\".format(round(girdi)))\n",
    "            break\n",
    "        except:\n",
    "            print(\"{} girdisi ondalık tipe çevrilemiyor\".format(girdi))\n",
    "            pass\n",
    "    \n",
    "\n",
    "tam_sayiya_cevir_dongu()"
   ]
  },
  {
   "cell_type": "code",
   "execution_count": 20,
   "metadata": {},
   "outputs": [
    {
     "ename": "TypeError",
     "evalue": "unsupported operand type(s) for +: 'int' and 'str'",
     "output_type": "error",
     "traceback": [
      "\u001b[0;31m---------------------------------------------------------------------------\u001b[0m",
      "\u001b[0;31mTypeError\u001b[0m                                 Traceback (most recent call last)",
      "\u001b[1;32m/Users/care/Documents/Py/py/03_Modul_3_Hata_Kontrol.ipynb Cell 7\u001b[0m in \u001b[0;36m<cell line: 1>\u001b[0;34m()\u001b[0m\n\u001b[0;32m----> <a href='vscode-notebook-cell:/Users/care/Documents/Py/py/03_Modul_3_Hata_Kontrol.ipynb#W6sZmlsZQ%3D%3D?line=0'>1</a>\u001b[0m \u001b[39m5\u001b[39;49m \u001b[39m+\u001b[39;49m \u001b[39m'\u001b[39;49m\u001b[39ma\u001b[39;49m\u001b[39m'\u001b[39;49m\n",
      "\u001b[0;31mTypeError\u001b[0m: unsupported operand type(s) for +: 'int' and 'str'"
     ]
    }
   ],
   "source": [
    "5 + 'a'"
   ]
  },
  {
   "cell_type": "code",
   "execution_count": 23,
   "metadata": {},
   "outputs": [
    {
     "name": "stdout",
     "output_type": "stream",
     "text": [
      "Girilen verilerde işlem yapılamaz\n"
     ]
    }
   ],
   "source": [
    "try:\n",
    "    5 + 'a'\n",
    "except TypeError: #bu hata tipi doğru belirlenmezse yine hata verir\n",
    "    print(\"Girilen verilerde işlem yapılamaz\")"
   ]
  },
  {
   "cell_type": "code",
   "execution_count": 24,
   "metadata": {},
   "outputs": [
    {
     "name": "stdout",
     "output_type": "stream",
     "text": [
      "kod hatalı\n"
     ]
    }
   ],
   "source": [
    "try:\n",
    "    5 + 'a'\n",
    "except IndexError: #bu hata tipi doğru belirlenmezse yine hata verir. onun içinde en sone except konabilir\n",
    "    print(\"Girilen verilerde işlem yapılamaz\")\n",
    "except:\n",
    "    print(\"kod hatalı\")"
   ]
  },
  {
   "cell_type": "code",
   "execution_count": 21,
   "metadata": {},
   "outputs": [
    {
     "ename": "IndexError",
     "evalue": "list index out of range",
     "output_type": "error",
     "traceback": [
      "\u001b[0;31m---------------------------------------------------------------------------\u001b[0m",
      "\u001b[0;31mIndexError\u001b[0m                                Traceback (most recent call last)",
      "\u001b[1;32m/Users/care/Documents/Py/py/03_Modul_3_Hata_Kontrol.ipynb Cell 9\u001b[0m in \u001b[0;36m<cell line: 2>\u001b[0;34m()\u001b[0m\n\u001b[1;32m      <a href='vscode-notebook-cell:/Users/care/Documents/Py/py/03_Modul_3_Hata_Kontrol.ipynb#X11sZmlsZQ%3D%3D?line=0'>1</a>\u001b[0m liste \u001b[39m=\u001b[39m []\n\u001b[0;32m----> <a href='vscode-notebook-cell:/Users/care/Documents/Py/py/03_Modul_3_Hata_Kontrol.ipynb#X11sZmlsZQ%3D%3D?line=1'>2</a>\u001b[0m liste[\u001b[39m4\u001b[39;49m]\n",
      "\u001b[0;31mIndexError\u001b[0m: list index out of range"
     ]
    }
   ],
   "source": [
    "liste = []\n",
    "liste[4]"
   ]
  },
  {
   "cell_type": "code",
   "execution_count": null,
   "metadata": {},
   "outputs": [],
   "source": [
    "liste = []\n",
    "\n",
    "try:\n",
    "    liste[-1]\n",
    "except IndexError:\n",
    "    print('Indexlemeye calistiginiz eleman listenin disinda')\n",
    "except: \n",
    "    print('kod duzgun calismiyor')"
   ]
  },
  {
   "cell_type": "code",
   "execution_count": 22,
   "metadata": {},
   "outputs": [
    {
     "ename": "KeyError",
     "evalue": "'PASS_NO'",
     "output_type": "error",
     "traceback": [
      "\u001b[0;31m---------------------------------------------------------------------------\u001b[0m",
      "\u001b[0;31mKeyError\u001b[0m                                  Traceback (most recent call last)",
      "\u001b[1;32m/Users/care/Documents/Py/py/03_Modul_3_Hata_Kontrol.ipynb Cell 11\u001b[0m in \u001b[0;36m<cell line: 6>\u001b[0;34m()\u001b[0m\n\u001b[1;32m      <a href='vscode-notebook-cell:/Users/care/Documents/Py/py/03_Modul_3_Hata_Kontrol.ipynb#X13sZmlsZQ%3D%3D?line=0'>1</a>\u001b[0m vatandas \u001b[39m=\u001b[39m {\n\u001b[1;32m      <a href='vscode-notebook-cell:/Users/care/Documents/Py/py/03_Modul_3_Hata_Kontrol.ipynb#X13sZmlsZQ%3D%3D?line=1'>2</a>\u001b[0m     \u001b[39m'\u001b[39m\u001b[39mAD\u001b[39m\u001b[39m'\u001b[39m: \u001b[39m'\u001b[39m\u001b[39mOguz\u001b[39m\u001b[39m'\u001b[39m,\n\u001b[1;32m      <a href='vscode-notebook-cell:/Users/care/Documents/Py/py/03_Modul_3_Hata_Kontrol.ipynb#X13sZmlsZQ%3D%3D?line=2'>3</a>\u001b[0m     \u001b[39m'\u001b[39m\u001b[39mTC_NO\u001b[39m\u001b[39m'\u001b[39m: \u001b[39m123123\u001b[39m\n\u001b[1;32m      <a href='vscode-notebook-cell:/Users/care/Documents/Py/py/03_Modul_3_Hata_Kontrol.ipynb#X13sZmlsZQ%3D%3D?line=3'>4</a>\u001b[0m }\n\u001b[0;32m----> <a href='vscode-notebook-cell:/Users/care/Documents/Py/py/03_Modul_3_Hata_Kontrol.ipynb#X13sZmlsZQ%3D%3D?line=5'>6</a>\u001b[0m vatandas[\u001b[39m'\u001b[39;49m\u001b[39mPASS_NO\u001b[39;49m\u001b[39m'\u001b[39;49m]\n",
      "\u001b[0;31mKeyError\u001b[0m: 'PASS_NO'"
     ]
    }
   ],
   "source": [
    "vatandas = {\n",
    "    'AD': 'Oguz',\n",
    "    'TC_NO': 123123\n",
    "}\n",
    "\n",
    "vatandas['PASS_NO']"
   ]
  },
  {
   "cell_type": "code",
   "execution_count": 25,
   "metadata": {},
   "outputs": [
    {
     "name": "stdout",
     "output_type": "stream",
     "text": [
      "Aranan dictionaryde verilen anahtar degeri mevcut degil\n"
     ]
    }
   ],
   "source": [
    "vatandas = {\n",
    "    'AD': 'Oguz',\n",
    "    'TC_NO': 123123\n",
    "}\n",
    "\n",
    "try:\n",
    "    vatandas['PASS_NO']\n",
    "except IndexError:\n",
    "    print('Indexlemeye calistiginiz eleman listenin disinda')\n",
    "except KeyError: \n",
    "    print('Aranan dictionaryde verilen anahtar degeri mevcut degil')\n",
    "except: \n",
    "    print('kod duzgun calismiyor')"
   ]
  }
 ],
 "metadata": {
  "kernelspec": {
   "display_name": "Python 3.9.12 ('base')",
   "language": "python",
   "name": "python3"
  },
  "language_info": {
   "codemirror_mode": {
    "name": "ipython",
    "version": 3
   },
   "file_extension": ".py",
   "mimetype": "text/x-python",
   "name": "python",
   "nbconvert_exporter": "python",
   "pygments_lexer": "ipython3",
   "version": "3.9.12"
  },
  "orig_nbformat": 4,
  "vscode": {
   "interpreter": {
    "hash": "ad4230dcc985a6694447830c7503112868e55c5b8e7e9400fedb750133391ec9"
   }
  }
 },
 "nbformat": 4,
 "nbformat_minor": 2
}
