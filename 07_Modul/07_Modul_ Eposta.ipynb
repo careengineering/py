{
 "cells": [
  {
   "cell_type": "markdown",
   "metadata": {},
   "source": [
    "Basit Eposta Gönderimi      "
   ]
  },
  {
   "cell_type": "code",
   "execution_count": 5,
   "metadata": {},
   "outputs": [
    {
     "ename": "UnicodeEncodeError",
     "evalue": "'ascii' codec can't encode character '\\u0131' in position 33: ordinal not in range(128)",
     "output_type": "error",
     "traceback": [
      "\u001b[1;31m---------------------------------------------------------------------------\u001b[0m",
      "\u001b[1;31mUnicodeEncodeError\u001b[0m                        Traceback (most recent call last)",
      "\u001b[1;32mz:\\Prj\\py\\py\\07_Modul\\07_Modul_ Eposta.ipynb Hücre 2\u001b[0m in \u001b[0;36m<cell line: 17>\u001b[1;34m()\u001b[0m\n\u001b[0;32m     <a href='vscode-notebook-cell:/z%3A/Prj/py/py/07_Modul/07_Modul_%20Eposta.ipynb#W1sZmlsZQ%3D%3D?line=14'>15</a>\u001b[0m host \u001b[39m=\u001b[39m \u001b[39m\"\u001b[39m\u001b[39msmtp.gmail.com\u001b[39m\u001b[39m\"\u001b[39m\n\u001b[0;32m     <a href='vscode-notebook-cell:/z%3A/Prj/py/py/07_Modul/07_Modul_%20Eposta.ipynb#W1sZmlsZQ%3D%3D?line=15'>16</a>\u001b[0m eposta_sunucu \u001b[39m=\u001b[39m smtplib\u001b[39m.\u001b[39mSMTP_SSL(host\u001b[39m=\u001b[39mhost, port\u001b[39m=\u001b[39mport,context\u001b[39m=\u001b[39mcontext)\n\u001b[1;32m---> <a href='vscode-notebook-cell:/z%3A/Prj/py/py/07_Modul/07_Modul_%20Eposta.ipynb#W1sZmlsZQ%3D%3D?line=16'>17</a>\u001b[0m eposta_sunucu\u001b[39m.\u001b[39;49mlogin(kullanici,sifre)\n\u001b[0;32m     <a href='vscode-notebook-cell:/z%3A/Prj/py/py/07_Modul/07_Modul_%20Eposta.ipynb#W1sZmlsZQ%3D%3D?line=17'>18</a>\u001b[0m eposta_sunucu\u001b[39m.\u001b[39msendmail(kullanici,alici,mesaj)\n",
      "File \u001b[1;32md:\\ProgramData\\Anaconda3\\lib\\smtplib.py:739\u001b[0m, in \u001b[0;36mSMTP.login\u001b[1;34m(self, user, password, initial_response_ok)\u001b[0m\n\u001b[0;32m    737\u001b[0m method_name \u001b[39m=\u001b[39m \u001b[39m'\u001b[39m\u001b[39mauth_\u001b[39m\u001b[39m'\u001b[39m \u001b[39m+\u001b[39m authmethod\u001b[39m.\u001b[39mlower()\u001b[39m.\u001b[39mreplace(\u001b[39m'\u001b[39m\u001b[39m-\u001b[39m\u001b[39m'\u001b[39m, \u001b[39m'\u001b[39m\u001b[39m_\u001b[39m\u001b[39m'\u001b[39m)\n\u001b[0;32m    738\u001b[0m \u001b[39mtry\u001b[39;00m:\n\u001b[1;32m--> 739\u001b[0m     (code, resp) \u001b[39m=\u001b[39m \u001b[39mself\u001b[39;49m\u001b[39m.\u001b[39;49mauth(\n\u001b[0;32m    740\u001b[0m         authmethod, \u001b[39mgetattr\u001b[39;49m(\u001b[39mself\u001b[39;49m, method_name),\n\u001b[0;32m    741\u001b[0m         initial_response_ok\u001b[39m=\u001b[39;49minitial_response_ok)\n\u001b[0;32m    742\u001b[0m     \u001b[39m# 235 == 'Authentication successful'\u001b[39;00m\n\u001b[0;32m    743\u001b[0m     \u001b[39m# 503 == 'Error: already authenticated'\u001b[39;00m\n\u001b[0;32m    744\u001b[0m     \u001b[39mif\u001b[39;00m code \u001b[39min\u001b[39;00m (\u001b[39m235\u001b[39m, \u001b[39m503\u001b[39m):\n",
      "File \u001b[1;32md:\\ProgramData\\Anaconda3\\lib\\smtplib.py:641\u001b[0m, in \u001b[0;36mSMTP.auth\u001b[1;34m(self, mechanism, authobject, initial_response_ok)\u001b[0m\n\u001b[0;32m    639\u001b[0m initial_response \u001b[39m=\u001b[39m (authobject() \u001b[39mif\u001b[39;00m initial_response_ok \u001b[39melse\u001b[39;00m \u001b[39mNone\u001b[39;00m)\n\u001b[0;32m    640\u001b[0m \u001b[39mif\u001b[39;00m initial_response \u001b[39mis\u001b[39;00m \u001b[39mnot\u001b[39;00m \u001b[39mNone\u001b[39;00m:\n\u001b[1;32m--> 641\u001b[0m     response \u001b[39m=\u001b[39m encode_base64(initial_response\u001b[39m.\u001b[39;49mencode(\u001b[39m'\u001b[39;49m\u001b[39mascii\u001b[39;49m\u001b[39m'\u001b[39;49m), eol\u001b[39m=\u001b[39m\u001b[39m'\u001b[39m\u001b[39m'\u001b[39m)\n\u001b[0;32m    642\u001b[0m     (code, resp) \u001b[39m=\u001b[39m \u001b[39mself\u001b[39m\u001b[39m.\u001b[39mdocmd(\u001b[39m\"\u001b[39m\u001b[39mAUTH\u001b[39m\u001b[39m\"\u001b[39m, mechanism \u001b[39m+\u001b[39m \u001b[39m\"\u001b[39m\u001b[39m \u001b[39m\u001b[39m\"\u001b[39m \u001b[39m+\u001b[39m response)\n\u001b[0;32m    643\u001b[0m     \u001b[39mself\u001b[39m\u001b[39m.\u001b[39m_auth_challenge_count \u001b[39m=\u001b[39m \u001b[39m1\u001b[39m\n",
      "\u001b[1;31mUnicodeEncodeError\u001b[0m: 'ascii' codec can't encode character '\\u0131' in position 33: ordinal not in range(128)"
     ]
    }
   ],
   "source": [
    "import ssl\n",
    "import smtplib\n",
    "\n",
    "#ssl basit şifreleme tsl daha güvenli\n",
    "\n",
    "kullanici =\"<kullaniciadi@gmail.com>\"\n",
    "sifre = \"<kullanıcı şifresi>\"\n",
    "\n",
    "alici = kullanici\n",
    "baslik = \"Python gönderisi\"\n",
    "mesaj = \"Deneme mesajı\"\n",
    "\n",
    "context = ssl.create_default_context()\n",
    "port = 465\n",
    "host = \"smtp.gmail.com\"\n",
    "eposta_sunucu = smtplib.SMTP_SSL(host=host, port=port,context=context)\n",
    "eposta_sunucu.login(kullanici,sifre)\n",
    "eposta_sunucu.sendmail(kullanici,alici,mesaj)\n"
   ]
  },
  {
   "cell_type": "markdown",
   "metadata": {},
   "source": [
    "Gelişmiş eposta gönderimi"
   ]
  },
  {
   "cell_type": "code",
   "execution_count": 6,
   "metadata": {},
   "outputs": [
    {
     "ename": "UnicodeEncodeError",
     "evalue": "'ascii' codec can't encode character '\\u0131' in position 33: ordinal not in range(128)",
     "output_type": "error",
     "traceback": [
      "\u001b[1;31m---------------------------------------------------------------------------\u001b[0m",
      "\u001b[1;31mUnicodeEncodeError\u001b[0m                        Traceback (most recent call last)",
      "\u001b[1;32mz:\\Prj\\py\\py\\07_Modul\\07_Modul_ Eposta.ipynb Hücre 4\u001b[0m in \u001b[0;36m<cell line: 26>\u001b[1;34m()\u001b[0m\n\u001b[0;32m     <a href='vscode-notebook-cell:/z%3A/Prj/py/py/07_Modul/07_Modul_%20Eposta.ipynb#W3sZmlsZQ%3D%3D?line=23'>24</a>\u001b[0m host \u001b[39m=\u001b[39m \u001b[39m\"\u001b[39m\u001b[39msmtp.gmail.com\u001b[39m\u001b[39m\"\u001b[39m\n\u001b[0;32m     <a href='vscode-notebook-cell:/z%3A/Prj/py/py/07_Modul/07_Modul_%20Eposta.ipynb#W3sZmlsZQ%3D%3D?line=24'>25</a>\u001b[0m eposta_sunucu \u001b[39m=\u001b[39m smtplib\u001b[39m.\u001b[39mSMTP_SSL(host\u001b[39m=\u001b[39mhost, port\u001b[39m=\u001b[39mport,context\u001b[39m=\u001b[39mcontext)\n\u001b[1;32m---> <a href='vscode-notebook-cell:/z%3A/Prj/py/py/07_Modul/07_Modul_%20Eposta.ipynb#W3sZmlsZQ%3D%3D?line=25'>26</a>\u001b[0m eposta_sunucu\u001b[39m.\u001b[39;49mlogin(kullanici,sifre)\n\u001b[0;32m     <a href='vscode-notebook-cell:/z%3A/Prj/py/py/07_Modul/07_Modul_%20Eposta.ipynb#W3sZmlsZQ%3D%3D?line=26'>27</a>\u001b[0m eposta_sunucu\u001b[39m.\u001b[39msendmail(kullanici,alici,posta_str)\n",
      "File \u001b[1;32md:\\ProgramData\\Anaconda3\\lib\\smtplib.py:739\u001b[0m, in \u001b[0;36mSMTP.login\u001b[1;34m(self, user, password, initial_response_ok)\u001b[0m\n\u001b[0;32m    737\u001b[0m method_name \u001b[39m=\u001b[39m \u001b[39m'\u001b[39m\u001b[39mauth_\u001b[39m\u001b[39m'\u001b[39m \u001b[39m+\u001b[39m authmethod\u001b[39m.\u001b[39mlower()\u001b[39m.\u001b[39mreplace(\u001b[39m'\u001b[39m\u001b[39m-\u001b[39m\u001b[39m'\u001b[39m, \u001b[39m'\u001b[39m\u001b[39m_\u001b[39m\u001b[39m'\u001b[39m)\n\u001b[0;32m    738\u001b[0m \u001b[39mtry\u001b[39;00m:\n\u001b[1;32m--> 739\u001b[0m     (code, resp) \u001b[39m=\u001b[39m \u001b[39mself\u001b[39;49m\u001b[39m.\u001b[39;49mauth(\n\u001b[0;32m    740\u001b[0m         authmethod, \u001b[39mgetattr\u001b[39;49m(\u001b[39mself\u001b[39;49m, method_name),\n\u001b[0;32m    741\u001b[0m         initial_response_ok\u001b[39m=\u001b[39;49minitial_response_ok)\n\u001b[0;32m    742\u001b[0m     \u001b[39m# 235 == 'Authentication successful'\u001b[39;00m\n\u001b[0;32m    743\u001b[0m     \u001b[39m# 503 == 'Error: already authenticated'\u001b[39;00m\n\u001b[0;32m    744\u001b[0m     \u001b[39mif\u001b[39;00m code \u001b[39min\u001b[39;00m (\u001b[39m235\u001b[39m, \u001b[39m503\u001b[39m):\n",
      "File \u001b[1;32md:\\ProgramData\\Anaconda3\\lib\\smtplib.py:641\u001b[0m, in \u001b[0;36mSMTP.auth\u001b[1;34m(self, mechanism, authobject, initial_response_ok)\u001b[0m\n\u001b[0;32m    639\u001b[0m initial_response \u001b[39m=\u001b[39m (authobject() \u001b[39mif\u001b[39;00m initial_response_ok \u001b[39melse\u001b[39;00m \u001b[39mNone\u001b[39;00m)\n\u001b[0;32m    640\u001b[0m \u001b[39mif\u001b[39;00m initial_response \u001b[39mis\u001b[39;00m \u001b[39mnot\u001b[39;00m \u001b[39mNone\u001b[39;00m:\n\u001b[1;32m--> 641\u001b[0m     response \u001b[39m=\u001b[39m encode_base64(initial_response\u001b[39m.\u001b[39;49mencode(\u001b[39m'\u001b[39;49m\u001b[39mascii\u001b[39;49m\u001b[39m'\u001b[39;49m), eol\u001b[39m=\u001b[39m\u001b[39m'\u001b[39m\u001b[39m'\u001b[39m)\n\u001b[0;32m    642\u001b[0m     (code, resp) \u001b[39m=\u001b[39m \u001b[39mself\u001b[39m\u001b[39m.\u001b[39mdocmd(\u001b[39m\"\u001b[39m\u001b[39mAUTH\u001b[39m\u001b[39m\"\u001b[39m, mechanism \u001b[39m+\u001b[39m \u001b[39m\"\u001b[39m\u001b[39m \u001b[39m\u001b[39m\"\u001b[39m \u001b[39m+\u001b[39m response)\n\u001b[0;32m    643\u001b[0m     \u001b[39mself\u001b[39m\u001b[39m.\u001b[39m_auth_challenge_count \u001b[39m=\u001b[39m \u001b[39m1\u001b[39m\n",
      "\u001b[1;31mUnicodeEncodeError\u001b[0m: 'ascii' codec can't encode character '\\u0131' in position 33: ordinal not in range(128)"
     ]
    }
   ],
   "source": [
    "from email.mime.multipart import MIMEMultipart\n",
    "from email.mime.text import MIMEText\n",
    "from email.mime.base import MIMEBase\n",
    "from email import encoders\n",
    "\n",
    "posta = MIMEMultipart()\n",
    "posta[\"From\"] = kullanici\n",
    "posta[\"To\"] = kullanici #çoklu liste için [kullanici1,kullanici2,\"....@hotmail.com\"]\n",
    "posta[\"Subject\"] = baslik\n",
    "\n",
    "posta.attach(MIMEText(mesaj, \"plain\"))\n",
    "eklenti_dosya_ismi = \"hatirlatmalar.txt\"\n",
    "with(open(eklenti_dosya_ismi,\"rb\")) as eklenti_dosyasi:\n",
    "    payload = MIMEBase(\"application\", \"octate-stream\")\n",
    "    payload.set_payload((eklenti_dosyasi).read())\n",
    "    encoders.encode_base64(payload)\n",
    "\n",
    "    payload.add_header(\"Content-Decomposition\", \"attachment\",filename=eklenti_dosya_ismi)\n",
    "    posta.attach(payload)\n",
    "\n",
    "    posta_str = posta.as_string()\n",
    "\n",
    "port = 465\n",
    "host = \"smtp.gmail.com\"\n",
    "eposta_sunucu = smtplib.SMTP_SSL(host=host, port=port,context=context)\n",
    "eposta_sunucu.login(kullanici,sifre)\n",
    "eposta_sunucu.sendmail(kullanici,alici,posta_str)"
   ]
  },
  {
   "cell_type": "markdown",
   "metadata": {},
   "source": [
    "E-posta Okuma"
   ]
  },
  {
   "cell_type": "code",
   "execution_count": null,
   "metadata": {},
   "outputs": [],
   "source": [
    "pip install imap_tools"
   ]
  },
  {
   "cell_type": "code",
   "execution_count": 7,
   "metadata": {},
   "outputs": [
    {
     "ename": "UnicodeEncodeError",
     "evalue": "'ascii' codec can't encode character '\\u0131' in position 8: ordinal not in range(128)",
     "output_type": "error",
     "traceback": [
      "\u001b[1;31m---------------------------------------------------------------------------\u001b[0m",
      "\u001b[1;31mUnicodeEncodeError\u001b[0m                        Traceback (most recent call last)",
      "\u001b[1;32mz:\\Prj\\py\\py\\07_Modul\\07_Modul_ Eposta.ipynb Hücre 7\u001b[0m in \u001b[0;36m<cell line: 7>\u001b[1;34m()\u001b[0m\n\u001b[0;32m      <a href='vscode-notebook-cell:/z%3A/Prj/py/py/07_Modul/07_Modul_%20Eposta.ipynb#W6sZmlsZQ%3D%3D?line=3'>4</a>\u001b[0m \u001b[39mfrom\u001b[39;00m \u001b[39mimap_tools\u001b[39;00m \u001b[39mimport\u001b[39;00m AND\n\u001b[0;32m      <a href='vscode-notebook-cell:/z%3A/Prj/py/py/07_Modul/07_Modul_%20Eposta.ipynb#W6sZmlsZQ%3D%3D?line=5'>6</a>\u001b[0m posta_kutusu \u001b[39m=\u001b[39m MailBox(\u001b[39m\"\u001b[39m\u001b[39mimap.gmail.com\u001b[39m\u001b[39m\"\u001b[39m)\n\u001b[1;32m----> <a href='vscode-notebook-cell:/z%3A/Prj/py/py/07_Modul/07_Modul_%20Eposta.ipynb#W6sZmlsZQ%3D%3D?line=6'>7</a>\u001b[0m posta_kutusu\u001b[39m.\u001b[39;49mlogin(kullanici,sifre,initial_folder\u001b[39m=\u001b[39;49m\u001b[39m\"\u001b[39;49m\u001b[39mINBOX\u001b[39;49m\u001b[39m\"\u001b[39;49m)\n\u001b[0;32m      <a href='vscode-notebook-cell:/z%3A/Prj/py/py/07_Modul/07_Modul_%20Eposta.ipynb#W6sZmlsZQ%3D%3D?line=8'>9</a>\u001b[0m kriter \u001b[39m=\u001b[39m AND(date_gte\u001b[39m=\u001b[39mdatetime\u001b[39m.\u001b[39mdate(\u001b[39m2021\u001b[39m,\u001b[39m1\u001b[39m,\u001b[39m1\u001b[39m), from_\u001b[39m=\u001b[39mkullanici)\n\u001b[0;32m     <a href='vscode-notebook-cell:/z%3A/Prj/py/py/07_Modul/07_Modul_%20Eposta.ipynb#W6sZmlsZQ%3D%3D?line=10'>11</a>\u001b[0m \u001b[39m# posta_kutusu.fetch()#tüm mailleri çeker\u001b[39;00m\n",
      "File \u001b[1;32m~\\AppData\\Roaming\\Python\\Python39\\site-packages\\imap_tools\\mailbox.py:64\u001b[0m, in \u001b[0;36mBaseMailBox.login\u001b[1;34m(self, username, password, initial_folder)\u001b[0m\n\u001b[0;32m     62\u001b[0m \u001b[39mdef\u001b[39;00m \u001b[39mlogin\u001b[39m(\u001b[39mself\u001b[39m, username: \u001b[39mstr\u001b[39m, password: \u001b[39mstr\u001b[39m, initial_folder: Optional[\u001b[39mstr\u001b[39m] \u001b[39m=\u001b[39m \u001b[39m'\u001b[39m\u001b[39mINBOX\u001b[39m\u001b[39m'\u001b[39m) \u001b[39m-\u001b[39m\u001b[39m>\u001b[39m \u001b[39m'\u001b[39m\u001b[39mBaseMailBox\u001b[39m\u001b[39m'\u001b[39m:\n\u001b[0;32m     63\u001b[0m     \u001b[39m\"\"\"Authenticate to account\"\"\"\u001b[39;00m\n\u001b[1;32m---> 64\u001b[0m     login_result \u001b[39m=\u001b[39m \u001b[39mself\u001b[39;49m\u001b[39m.\u001b[39;49mclient\u001b[39m.\u001b[39;49m_simple_command(\u001b[39m'\u001b[39;49m\u001b[39mLOGIN\u001b[39;49m\u001b[39m'\u001b[39;49m, username, \u001b[39mself\u001b[39;49m\u001b[39m.\u001b[39;49mclient\u001b[39m.\u001b[39;49m_quote(password))  \u001b[39m# noqa\u001b[39;00m\n\u001b[0;32m     65\u001b[0m     check_command_status(login_result, MailboxLoginError)\n\u001b[0;32m     66\u001b[0m     \u001b[39mself\u001b[39m\u001b[39m.\u001b[39mclient\u001b[39m.\u001b[39mstate \u001b[39m=\u001b[39m \u001b[39m'\u001b[39m\u001b[39mAUTH\u001b[39m\u001b[39m'\u001b[39m  \u001b[39m# logic from self.client.login\u001b[39;00m\n",
      "File \u001b[1;32md:\\ProgramData\\Anaconda3\\lib\\imaplib.py:1230\u001b[0m, in \u001b[0;36mIMAP4._simple_command\u001b[1;34m(self, name, *args)\u001b[0m\n\u001b[0;32m   1228\u001b[0m \u001b[39mdef\u001b[39;00m \u001b[39m_simple_command\u001b[39m(\u001b[39mself\u001b[39m, name, \u001b[39m*\u001b[39margs):\n\u001b[1;32m-> 1230\u001b[0m     \u001b[39mreturn\u001b[39;00m \u001b[39mself\u001b[39m\u001b[39m.\u001b[39m_command_complete(name, \u001b[39mself\u001b[39;49m\u001b[39m.\u001b[39;49m_command(name, \u001b[39m*\u001b[39;49margs))\n",
      "File \u001b[1;32md:\\ProgramData\\Anaconda3\\lib\\imaplib.py:987\u001b[0m, in \u001b[0;36mIMAP4._command\u001b[1;34m(self, name, *args)\u001b[0m\n\u001b[0;32m    985\u001b[0m     \u001b[39mif\u001b[39;00m arg \u001b[39mis\u001b[39;00m \u001b[39mNone\u001b[39;00m: \u001b[39mcontinue\u001b[39;00m\n\u001b[0;32m    986\u001b[0m     \u001b[39mif\u001b[39;00m \u001b[39misinstance\u001b[39m(arg, \u001b[39mstr\u001b[39m):\n\u001b[1;32m--> 987\u001b[0m         arg \u001b[39m=\u001b[39m \u001b[39mbytes\u001b[39;49m(arg, \u001b[39mself\u001b[39;49m\u001b[39m.\u001b[39;49m_encoding)\n\u001b[0;32m    988\u001b[0m     data \u001b[39m=\u001b[39m data \u001b[39m+\u001b[39m \u001b[39mb\u001b[39m\u001b[39m'\u001b[39m\u001b[39m \u001b[39m\u001b[39m'\u001b[39m \u001b[39m+\u001b[39m arg\n\u001b[0;32m    990\u001b[0m literal \u001b[39m=\u001b[39m \u001b[39mself\u001b[39m\u001b[39m.\u001b[39mliteral\n",
      "\u001b[1;31mUnicodeEncodeError\u001b[0m: 'ascii' codec can't encode character '\\u0131' in position 8: ordinal not in range(128)"
     ]
    }
   ],
   "source": [
    "#githubta imaptools ile ilgili örnekler var\n",
    "import datetime\n",
    "from imap_tools import MailBox\n",
    "from imap_tools import AND\n",
    "\n",
    "posta_kutusu = MailBox(\"imap.gmail.com\")\n",
    "posta_kutusu.login(kullanici,sifre,initial_folder=\"INBOX\")\n",
    "\n",
    "kriter = AND(date_gte=datetime.date(2021,1,1), from_=kullanici)\n",
    "\n",
    "# posta_kutusu.fetch()#tüm mailleri çeker\n",
    "for msg in posta_kutusu.fetch(kriter):\n",
    "    print(msg.text)"
   ]
  },
  {
   "cell_type": "code",
   "execution_count": 8,
   "metadata": {},
   "outputs": [
    {
     "ename": "UnicodeEncodeError",
     "evalue": "'ascii' codec can't encode character '\\u0131' in position 8: ordinal not in range(128)",
     "output_type": "error",
     "traceback": [
      "\u001b[1;31m---------------------------------------------------------------------------\u001b[0m",
      "\u001b[1;31mUnicodeEncodeError\u001b[0m                        Traceback (most recent call last)",
      "\u001b[1;32mz:\\Prj\\py\\py\\07_Modul\\07_Modul_ Eposta.ipynb Hücre 8\u001b[0m in \u001b[0;36m<cell line: 5>\u001b[1;34m()\u001b[0m\n\u001b[0;32m      <a href='vscode-notebook-cell:/z%3A/Prj/py/py/07_Modul/07_Modul_%20Eposta.ipynb#X10sZmlsZQ%3D%3D?line=0'>1</a>\u001b[0m \u001b[39m#posta_kutusu = MailBox(\"imap.gmail.com\")\u001b[39;00m\n\u001b[0;32m      <a href='vscode-notebook-cell:/z%3A/Prj/py/py/07_Modul/07_Modul_%20Eposta.ipynb#X10sZmlsZQ%3D%3D?line=1'>2</a>\u001b[0m \u001b[39m#posta_kutusu.login(kullanici,sifre,initial_folder=\"INBOX\")\u001b[39;00m\n\u001b[0;32m      <a href='vscode-notebook-cell:/z%3A/Prj/py/py/07_Modul/07_Modul_%20Eposta.ipynb#X10sZmlsZQ%3D%3D?line=2'>3</a>\u001b[0m \u001b[39m#yukarıdakiler yerine with olan satır olarak yazılabilir.\u001b[39;00m\n\u001b[1;32m----> <a href='vscode-notebook-cell:/z%3A/Prj/py/py/07_Modul/07_Modul_%20Eposta.ipynb#X10sZmlsZQ%3D%3D?line=4'>5</a>\u001b[0m \u001b[39mwith\u001b[39;00m MailBox(\u001b[39m\"\u001b[39;49m\u001b[39mimap.gmail.com\u001b[39;49m\u001b[39m\"\u001b[39;49m)\u001b[39m.\u001b[39;49mlogin(kullanici,sifre,initial_folder\u001b[39m=\u001b[39;49m\u001b[39m\"\u001b[39;49m\u001b[39mINBOX\u001b[39;49m\u001b[39m\"\u001b[39;49m) \u001b[39mas\u001b[39;00m posta_kutusu:\n\u001b[0;32m      <a href='vscode-notebook-cell:/z%3A/Prj/py/py/07_Modul/07_Modul_%20Eposta.ipynb#X10sZmlsZQ%3D%3D?line=5'>6</a>\u001b[0m     kriter \u001b[39m=\u001b[39m AND(date_gte\u001b[39m=\u001b[39mdatetime\u001b[39m.\u001b[39mdate(\u001b[39m2021\u001b[39m,\u001b[39m1\u001b[39m,\u001b[39m1\u001b[39m), from_\u001b[39m=\u001b[39mkullanici)\n\u001b[0;32m      <a href='vscode-notebook-cell:/z%3A/Prj/py/py/07_Modul/07_Modul_%20Eposta.ipynb#X10sZmlsZQ%3D%3D?line=7'>8</a>\u001b[0m     \u001b[39m# posta_kutusu.fetch()#tüm mailleri çeker\u001b[39;00m\n",
      "File \u001b[1;32m~\\AppData\\Roaming\\Python\\Python39\\site-packages\\imap_tools\\mailbox.py:64\u001b[0m, in \u001b[0;36mBaseMailBox.login\u001b[1;34m(self, username, password, initial_folder)\u001b[0m\n\u001b[0;32m     62\u001b[0m \u001b[39mdef\u001b[39;00m \u001b[39mlogin\u001b[39m(\u001b[39mself\u001b[39m, username: \u001b[39mstr\u001b[39m, password: \u001b[39mstr\u001b[39m, initial_folder: Optional[\u001b[39mstr\u001b[39m] \u001b[39m=\u001b[39m \u001b[39m'\u001b[39m\u001b[39mINBOX\u001b[39m\u001b[39m'\u001b[39m) \u001b[39m-\u001b[39m\u001b[39m>\u001b[39m \u001b[39m'\u001b[39m\u001b[39mBaseMailBox\u001b[39m\u001b[39m'\u001b[39m:\n\u001b[0;32m     63\u001b[0m     \u001b[39m\"\"\"Authenticate to account\"\"\"\u001b[39;00m\n\u001b[1;32m---> 64\u001b[0m     login_result \u001b[39m=\u001b[39m \u001b[39mself\u001b[39;49m\u001b[39m.\u001b[39;49mclient\u001b[39m.\u001b[39;49m_simple_command(\u001b[39m'\u001b[39;49m\u001b[39mLOGIN\u001b[39;49m\u001b[39m'\u001b[39;49m, username, \u001b[39mself\u001b[39;49m\u001b[39m.\u001b[39;49mclient\u001b[39m.\u001b[39;49m_quote(password))  \u001b[39m# noqa\u001b[39;00m\n\u001b[0;32m     65\u001b[0m     check_command_status(login_result, MailboxLoginError)\n\u001b[0;32m     66\u001b[0m     \u001b[39mself\u001b[39m\u001b[39m.\u001b[39mclient\u001b[39m.\u001b[39mstate \u001b[39m=\u001b[39m \u001b[39m'\u001b[39m\u001b[39mAUTH\u001b[39m\u001b[39m'\u001b[39m  \u001b[39m# logic from self.client.login\u001b[39;00m\n",
      "File \u001b[1;32md:\\ProgramData\\Anaconda3\\lib\\imaplib.py:1230\u001b[0m, in \u001b[0;36mIMAP4._simple_command\u001b[1;34m(self, name, *args)\u001b[0m\n\u001b[0;32m   1228\u001b[0m \u001b[39mdef\u001b[39;00m \u001b[39m_simple_command\u001b[39m(\u001b[39mself\u001b[39m, name, \u001b[39m*\u001b[39margs):\n\u001b[1;32m-> 1230\u001b[0m     \u001b[39mreturn\u001b[39;00m \u001b[39mself\u001b[39m\u001b[39m.\u001b[39m_command_complete(name, \u001b[39mself\u001b[39;49m\u001b[39m.\u001b[39;49m_command(name, \u001b[39m*\u001b[39;49margs))\n",
      "File \u001b[1;32md:\\ProgramData\\Anaconda3\\lib\\imaplib.py:987\u001b[0m, in \u001b[0;36mIMAP4._command\u001b[1;34m(self, name, *args)\u001b[0m\n\u001b[0;32m    985\u001b[0m     \u001b[39mif\u001b[39;00m arg \u001b[39mis\u001b[39;00m \u001b[39mNone\u001b[39;00m: \u001b[39mcontinue\u001b[39;00m\n\u001b[0;32m    986\u001b[0m     \u001b[39mif\u001b[39;00m \u001b[39misinstance\u001b[39m(arg, \u001b[39mstr\u001b[39m):\n\u001b[1;32m--> 987\u001b[0m         arg \u001b[39m=\u001b[39m \u001b[39mbytes\u001b[39;49m(arg, \u001b[39mself\u001b[39;49m\u001b[39m.\u001b[39;49m_encoding)\n\u001b[0;32m    988\u001b[0m     data \u001b[39m=\u001b[39m data \u001b[39m+\u001b[39m \u001b[39mb\u001b[39m\u001b[39m'\u001b[39m\u001b[39m \u001b[39m\u001b[39m'\u001b[39m \u001b[39m+\u001b[39m arg\n\u001b[0;32m    990\u001b[0m literal \u001b[39m=\u001b[39m \u001b[39mself\u001b[39m\u001b[39m.\u001b[39mliteral\n",
      "\u001b[1;31mUnicodeEncodeError\u001b[0m: 'ascii' codec can't encode character '\\u0131' in position 8: ordinal not in range(128)"
     ]
    }
   ],
   "source": [
    "#posta_kutusu = MailBox(\"imap.gmail.com\")\n",
    "#posta_kutusu.login(kullanici,sifre,initial_folder=\"INBOX\")\n",
    "#yukarıdakiler yerine with olan satır olarak yazılabilir.\n",
    "\n",
    "with MailBox(\"imap.gmail.com\").login(kullanici,sifre,initial_folder=\"INBOX\") as posta_kutusu:\n",
    "    kriter = AND(date_gte=datetime.date(2021,1,1), from_=kullanici)\n",
    "\n",
    "    # posta_kutusu.fetch()#tüm mailleri çeker\n",
    "    for msg in posta_kutusu.fetch(kriter):\n",
    "        print(msg.text)"
   ]
  },
  {
   "cell_type": "code",
   "execution_count": 9,
   "metadata": {},
   "outputs": [
    {
     "ename": "NameError",
     "evalue": "name 'kriter' is not defined",
     "output_type": "error",
     "traceback": [
      "\u001b[1;31m---------------------------------------------------------------------------\u001b[0m",
      "\u001b[1;31mNameError\u001b[0m                                 Traceback (most recent call last)",
      "\u001b[1;32mz:\\Prj\\py\\py\\07_Modul\\07_Modul_ Eposta.ipynb Hücre 9\u001b[0m in \u001b[0;36m<cell line: 10>\u001b[1;34m()\u001b[0m\n\u001b[0;32m      <a href='vscode-notebook-cell:/z%3A/Prj/py/py/07_Modul/07_Modul_%20Eposta.ipynb#X11sZmlsZQ%3D%3D?line=6'>7</a>\u001b[0m                     \u001b[39mreturn\u001b[39;00m(\u001b[39m\"\u001b[39m\u001b[39m{}\u001b[39;00m\u001b[39m isimli dosya \u001b[39m\u001b[39m{}\u001b[39;00m\u001b[39m tarihli ve \u001b[39m\u001b[39m{}\u001b[39;00m\u001b[39m başlıklı epostadadir\u001b[39m\u001b[39m\"\u001b[39m\u001b[39m.\u001b[39mformat(dosya_ismi_param,msg\u001b[39m.\u001b[39mdate_str,mesaj\u001b[39m.\u001b[39msubject))\n\u001b[0;32m      <a href='vscode-notebook-cell:/z%3A/Prj/py/py/07_Modul/07_Modul_%20Eposta.ipynb#X11sZmlsZQ%3D%3D?line=7'>8</a>\u001b[0m     \u001b[39mreturn\u001b[39;00m(\u001b[39m\"\u001b[39m\u001b[39m{}\u001b[39;00m\u001b[39m isimli dosya eposta kutusunda bulunamadı\u001b[39m\u001b[39m\"\u001b[39m\u001b[39m.\u001b[39m \u001b[39mformat\u001b[39m(dosya_ismi_param))\n\u001b[1;32m---> <a href='vscode-notebook-cell:/z%3A/Prj/py/py/07_Modul/07_Modul_%20Eposta.ipynb#X11sZmlsZQ%3D%3D?line=9'>10</a>\u001b[0m dosya_isminden_mail_bul(posta_kutusu, dosya_ismi,kriter)\n",
      "\u001b[1;31mNameError\u001b[0m: name 'kriter' is not defined"
     ]
    }
   ],
   "source": [
    "dosya_ismi = \"e-posta.ipynb\"\n",
    "def dosya_isminden_mail_bul(eposta_kutusu_param, dosya_ismi_param,kriter_param):\n",
    "    for mesaj in eposta_kutusu_param.fetch(kriter):\n",
    "        if mesaj.attachments:\n",
    "            for ek in mesaj.attachments:\n",
    "                if dosya_ismi_param == ek.filename:\n",
    "                    return(\"{} isimli dosya {} tarihli ve {} başlıklı epostadadir\".format(dosya_ismi_param,msg.date_str,mesaj.subject))\n",
    "    return(\"{} isimli dosya eposta kutusunda bulunamadı\". format(dosya_ismi_param))\n",
    "\n",
    "dosya_isminden_mail_bul(posta_kutusu, dosya_ismi,kriter)\n"
   ]
  }
 ],
 "metadata": {
  "kernelspec": {
   "display_name": "Python 3.9.12 ('base')",
   "language": "python",
   "name": "python3"
  },
  "language_info": {
   "codemirror_mode": {
    "name": "ipython",
    "version": 3
   },
   "file_extension": ".py",
   "mimetype": "text/x-python",
   "name": "python",
   "nbconvert_exporter": "python",
   "pygments_lexer": "ipython3",
   "version": "3.9.12"
  },
  "orig_nbformat": 4,
  "vscode": {
   "interpreter": {
    "hash": "e42634819b8c191a5d07eaf23810ff32516dd8d3875f28ec3e488928fbd3c187"
   }
  }
 },
 "nbformat": 4,
 "nbformat_minor": 2
}
