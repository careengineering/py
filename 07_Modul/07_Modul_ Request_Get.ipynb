{
 "cells": [
  {
   "cell_type": "code",
   "execution_count": 5,
   "metadata": {},
   "outputs": [],
   "source": [
    "import requests\n",
    "#yüklenmezse terminale yaz pip install requests\n",
    "\n",
    "bolgeler_URL = \"https://data.police.uk/api/forces\"\n",
    "response = requests.get(bolgeler_URL)"
   ]
  },
  {
   "cell_type": "code",
   "execution_count": 6,
   "metadata": {},
   "outputs": [
    {
     "data": {
      "text/plain": [
       "200"
      ]
     },
     "execution_count": 6,
     "metadata": {},
     "output_type": "execute_result"
    }
   ],
   "source": [
    "response.status_code #yanıt kodunu gösterir 200 başarılı 404 bulunamadı vb"
   ]
  },
  {
   "cell_type": "code",
   "execution_count": 7,
   "metadata": {},
   "outputs": [
    {
     "data": {
      "text/plain": [
       "'https://data.police.uk/api/forces'"
      ]
     },
     "execution_count": 7,
     "metadata": {},
     "output_type": "execute_result"
    }
   ],
   "source": [
    "response.url #sonucun urlsini gösterir"
   ]
  },
  {
   "cell_type": "code",
   "execution_count": 8,
   "metadata": {},
   "outputs": [
    {
     "data": {
      "text/plain": [
       "'[{\"id\":\"avon-and-somerset\",\"name\":\"Avon and Somerset Constabulary\"},{\"id\":\"bedfordshire\",\"name\":\"Bedfordshire Police\"},{\"id\":\"cambridgeshire\",\"name\":\"Cambridgeshire Constabulary\"},{\"id\":\"cheshire\",\"name\":\"Cheshire Constabulary\"},{\"id\":\"city-of-london\",\"name\":\"City of London Police\"},{\"id\":\"cleveland\",\"name\":\"Cleveland Police\"},{\"id\":\"cumbria\",\"name\":\"Cumbria Constabulary\"},{\"id\":\"derbyshire\",\"name\":\"Derbyshire Constabulary\"},{\"id\":\"devon-and-cornwall\",\"name\":\"Devon & Cornwall Police\"},{\"id\":\"dorset\",\"name\":\"Dorset Police\"},{\"id\":\"durham\",\"name\":\"Durham Constabulary\"},{\"id\":\"dyfed-powys\",\"name\":\"Dyfed-Powys Police\"},{\"id\":\"essex\",\"name\":\"Essex Police\"},{\"id\":\"gloucestershire\",\"name\":\"Gloucestershire Constabulary\"},{\"id\":\"greater-manchester\",\"name\":\"Greater Manchester Police\"},{\"id\":\"gwent\",\"name\":\"Gwent Police\"},{\"id\":\"hampshire\",\"name\":\"Hampshire Constabulary\"},{\"id\":\"hertfordshire\",\"name\":\"Hertfordshire Constabulary\"},{\"id\":\"humberside\",\"name\":\"Humberside Police\"},{\"id\":\"kent\",\"name\":\"Kent Police\"},{\"id\":\"lancashire\",\"name\":\"Lancashire Constabulary\"},{\"id\":\"leicestershire\",\"name\":\"Leicestershire Police\"},{\"id\":\"lincolnshire\",\"name\":\"Lincolnshire Police\"},{\"id\":\"merseyside\",\"name\":\"Merseyside Police\"},{\"id\":\"metropolitan\",\"name\":\"Metropolitan Police Service\"},{\"id\":\"norfolk\",\"name\":\"Norfolk Constabulary\"},{\"id\":\"north-wales\",\"name\":\"North Wales Police\"},{\"id\":\"north-yorkshire\",\"name\":\"North Yorkshire Police\"},{\"id\":\"northamptonshire\",\"name\":\"Northamptonshire Police\"},{\"id\":\"northumbria\",\"name\":\"Northumbria Police\"},{\"id\":\"nottinghamshire\",\"name\":\"Nottinghamshire Police\"},{\"id\":\"northern-ireland\",\"name\":\"Police Service of Northern Ireland\"},{\"id\":\"south-wales\",\"name\":\"South Wales Police\"},{\"id\":\"south-yorkshire\",\"name\":\"South Yorkshire Police\"},{\"id\":\"staffordshire\",\"name\":\"Staffordshire Police\"},{\"id\":\"suffolk\",\"name\":\"Suffolk Constabulary\"},{\"id\":\"surrey\",\"name\":\"Surrey Police\"},{\"id\":\"sussex\",\"name\":\"Sussex Police\"},{\"id\":\"thames-valley\",\"name\":\"Thames Valley Police\"},{\"id\":\"warwickshire\",\"name\":\"Warwickshire Police\"},{\"id\":\"west-mercia\",\"name\":\"West Mercia Police\"},{\"id\":\"west-midlands\",\"name\":\"West Midlands Police\"},{\"id\":\"west-yorkshire\",\"name\":\"West Yorkshire Police\"},{\"id\":\"wiltshire\",\"name\":\"Wiltshire Police\"}]'"
      ]
     },
     "execution_count": 8,
     "metadata": {},
     "output_type": "execute_result"
    }
   ],
   "source": [
    "response.text #text halini gösterir"
   ]
  },
  {
   "cell_type": "code",
   "execution_count": 10,
   "metadata": {},
   "outputs": [
    {
     "data": {
      "text/plain": [
       "[{'id': 'avon-and-somerset', 'name': 'Avon and Somerset Constabulary'},\n",
       " {'id': 'bedfordshire', 'name': 'Bedfordshire Police'},\n",
       " {'id': 'cambridgeshire', 'name': 'Cambridgeshire Constabulary'},\n",
       " {'id': 'cheshire', 'name': 'Cheshire Constabulary'},\n",
       " {'id': 'city-of-london', 'name': 'City of London Police'},\n",
       " {'id': 'cleveland', 'name': 'Cleveland Police'},\n",
       " {'id': 'cumbria', 'name': 'Cumbria Constabulary'},\n",
       " {'id': 'derbyshire', 'name': 'Derbyshire Constabulary'},\n",
       " {'id': 'devon-and-cornwall', 'name': 'Devon & Cornwall Police'},\n",
       " {'id': 'dorset', 'name': 'Dorset Police'},\n",
       " {'id': 'durham', 'name': 'Durham Constabulary'},\n",
       " {'id': 'dyfed-powys', 'name': 'Dyfed-Powys Police'},\n",
       " {'id': 'essex', 'name': 'Essex Police'},\n",
       " {'id': 'gloucestershire', 'name': 'Gloucestershire Constabulary'},\n",
       " {'id': 'greater-manchester', 'name': 'Greater Manchester Police'},\n",
       " {'id': 'gwent', 'name': 'Gwent Police'},\n",
       " {'id': 'hampshire', 'name': 'Hampshire Constabulary'},\n",
       " {'id': 'hertfordshire', 'name': 'Hertfordshire Constabulary'},\n",
       " {'id': 'humberside', 'name': 'Humberside Police'},\n",
       " {'id': 'kent', 'name': 'Kent Police'},\n",
       " {'id': 'lancashire', 'name': 'Lancashire Constabulary'},\n",
       " {'id': 'leicestershire', 'name': 'Leicestershire Police'},\n",
       " {'id': 'lincolnshire', 'name': 'Lincolnshire Police'},\n",
       " {'id': 'merseyside', 'name': 'Merseyside Police'},\n",
       " {'id': 'metropolitan', 'name': 'Metropolitan Police Service'},\n",
       " {'id': 'norfolk', 'name': 'Norfolk Constabulary'},\n",
       " {'id': 'north-wales', 'name': 'North Wales Police'},\n",
       " {'id': 'north-yorkshire', 'name': 'North Yorkshire Police'},\n",
       " {'id': 'northamptonshire', 'name': 'Northamptonshire Police'},\n",
       " {'id': 'northumbria', 'name': 'Northumbria Police'},\n",
       " {'id': 'nottinghamshire', 'name': 'Nottinghamshire Police'},\n",
       " {'id': 'northern-ireland', 'name': 'Police Service of Northern Ireland'},\n",
       " {'id': 'south-wales', 'name': 'South Wales Police'},\n",
       " {'id': 'south-yorkshire', 'name': 'South Yorkshire Police'},\n",
       " {'id': 'staffordshire', 'name': 'Staffordshire Police'},\n",
       " {'id': 'suffolk', 'name': 'Suffolk Constabulary'},\n",
       " {'id': 'surrey', 'name': 'Surrey Police'},\n",
       " {'id': 'sussex', 'name': 'Sussex Police'},\n",
       " {'id': 'thames-valley', 'name': 'Thames Valley Police'},\n",
       " {'id': 'warwickshire', 'name': 'Warwickshire Police'},\n",
       " {'id': 'west-mercia', 'name': 'West Mercia Police'},\n",
       " {'id': 'west-midlands', 'name': 'West Midlands Police'},\n",
       " {'id': 'west-yorkshire', 'name': 'West Yorkshire Police'},\n",
       " {'id': 'wiltshire', 'name': 'Wiltshire Police'}]"
      ]
     },
     "execution_count": 10,
     "metadata": {},
     "output_type": "execute_result"
    }
   ],
   "source": [
    "response.json() #sonucu json çevirir"
   ]
  },
  {
   "cell_type": "code",
   "execution_count": null,
   "metadata": {},
   "outputs": [],
   "source": []
  },
  {
   "cell_type": "code",
   "execution_count": null,
   "metadata": {},
   "outputs": [],
   "source": []
  },
  {
   "cell_type": "code",
   "execution_count": null,
   "metadata": {},
   "outputs": [],
   "source": []
  },
  {
   "cell_type": "code",
   "execution_count": null,
   "metadata": {},
   "outputs": [],
   "source": []
  },
  {
   "cell_type": "code",
   "execution_count": null,
   "metadata": {},
   "outputs": [],
   "source": []
  },
  {
   "cell_type": "code",
   "execution_count": null,
   "metadata": {},
   "outputs": [],
   "source": []
  }
 ],
 "metadata": {
  "kernelspec": {
   "display_name": "Python 3.9.12 ('base')",
   "language": "python",
   "name": "python3"
  },
  "language_info": {
   "codemirror_mode": {
    "name": "ipython",
    "version": 3
   },
   "file_extension": ".py",
   "mimetype": "text/x-python",
   "name": "python",
   "nbconvert_exporter": "python",
   "pygments_lexer": "ipython3",
   "version": "3.9.12"
  },
  "orig_nbformat": 4,
  "vscode": {
   "interpreter": {
    "hash": "ad4230dcc985a6694447830c7503112868e55c5b8e7e9400fedb750133391ec9"
   }
  }
 },
 "nbformat": 4,
 "nbformat_minor": 2
}
