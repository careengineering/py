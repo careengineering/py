{
 "cells": [
  {
   "cell_type": "markdown",
   "metadata": {},
   "source": [
    "Magic Commands"
   ]
  },
  {
   "cell_type": "code",
   "execution_count": 1,
   "metadata": {},
   "outputs": [
    {
     "name": "stdout",
     "output_type": "stream",
     "text": [
      " Volume in drive Z is Depo\n",
      " Volume Serial Number is 4AB2-0D55\n",
      "\n",
      " Directory of z:\\Prj\\py\n",
      "\n",
      "28.09.2022  13:36    <DIR>          .\n",
      "14.09.2022  11:18    <DIR>          ..\n",
      "26.09.2022  13:23             5.827 01_Modul_Giris.ipynb\n",
      "28.09.2022  13:33            14.756 01_Modul_Giris_Test.ipynb\n",
      "28.09.2022  13:35            12.575 02_Modul_Donguler_Sorgular.ipynb\n",
      "28.09.2022  13:36             3.598 02_Modul_Kosullar.ipynb\n",
      "26.09.2022  13:23             5.034 02_Modul_Test.ipynb\n",
      "26.09.2022  13:23            14.480 03_Modul_Fonksiyon.ipynb\n",
      "26.09.2022  13:23            10.747 03_Modul_Hata_Kontrol.ipynb\n",
      "26.09.2022  13:23             9.993 03_Modul_Test.ipynb\n",
      "27.09.2022  17:22            13.919 04_Modul__Class.ipynb\n",
      "28.09.2022  13:37               628 05_Modul_Dosya_Klasorler.ipynb\n",
      "              10 File(s)         91.557 bytes\n",
      "               2 Dir(s)  487.869.407.232 bytes free\n"
     ]
    }
   ],
   "source": [
    "%ls #mevcut dosya listemele yapar"
   ]
  },
  {
   "cell_type": "code",
   "execution_count": 1,
   "metadata": {},
   "outputs": [
    {
     "data": {
      "text/plain": [
       "'/Users/care/Documents/Py/py'"
      ]
     },
     "execution_count": 1,
     "metadata": {},
     "output_type": "execute_result"
    }
   ],
   "source": []
  },
  {
   "cell_type": "code",
   "execution_count": null,
   "metadata": {},
   "outputs": [],
   "source": []
  },
  {
   "cell_type": "code",
   "execution_count": null,
   "metadata": {},
   "outputs": [],
   "source": []
  },
  {
   "cell_type": "code",
   "execution_count": null,
   "metadata": {},
   "outputs": [],
   "source": []
  },
  {
   "cell_type": "code",
   "execution_count": null,
   "metadata": {},
   "outputs": [],
   "source": []
  }
 ],
 "metadata": {
  "kernelspec": {
   "display_name": "Python 3.9.12 ('base')",
   "language": "python",
   "name": "python3"
  },
  "language_info": {
   "codemirror_mode": {
    "name": "ipython",
    "version": 3
   },
   "file_extension": ".py",
   "mimetype": "text/x-python",
   "name": "python",
   "nbconvert_exporter": "python",
   "pygments_lexer": "ipython3",
   "version": "3.9.12"
  },
  "orig_nbformat": 4,
  "vscode": {
   "interpreter": {
    "hash": "ad4230dcc985a6694447830c7503112868e55c5b8e7e9400fedb750133391ec9"
   }
  }
 },
 "nbformat": 4,
 "nbformat_minor": 2
}
