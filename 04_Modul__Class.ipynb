{
 "cells": [
  {
   "cell_type": "markdown",
   "metadata": {},
   "source": [
    "class <Class Ismi>():   ### class isimleri, genelin aksine büyük harfle baslar (zorunluluk degil)\n",
    "    \n",
    "    <class attr>        ### class attribute, olusturulanin aksine genel degerleri icerir\n",
    "       \n",
    "        def __init__(self, <attr>):         ### init, instantiation yani örneklendirmenin kisaltmasidir\n",
    "           \n",
    "           self.<instance attr> = attr     ### instance attribute'lar, olusturulan örnege özgüdür\n",
    "           ...\n",
    " \n",
    "\n",
    "        def <method>(self, <params>):       ### methodlar class'a özgü fonksiyonlardir\\n\",\n",
    "        ...\n",
    "        return ..."
   ]
  },
  {
   "cell_type": "code",
   "execution_count": 53,
   "metadata": {},
   "outputs": [
    {
     "name": "stdout",
     "output_type": "stream",
     "text": [
      "THY\n"
     ]
    }
   ],
   "source": [
    "class Ucus():\n",
    "    havayolu = \"THY\" #attiribute oluşturduk\n",
    "\n",
    "ucus1 = Ucus()\n",
    "print(ucus1.havayolu)"
   ]
  },
  {
   "cell_type": "code",
   "execution_count": 54,
   "metadata": {},
   "outputs": [
    {
     "ename": "TypeError",
     "evalue": "__init__() missing 6 required positional arguments: 'kod', 'kalkis', 'varis', 'sure', 'kapasite', and 'yolcu'",
     "output_type": "error",
     "traceback": [
      "\u001b[1;31m---------------------------------------------------------------------------\u001b[0m",
      "\u001b[1;31mTypeError\u001b[0m                                 Traceback (most recent call last)",
      "\u001b[1;32mz:\\Prj\\py\\04_Modul__Class.ipynb Hücre 3\u001b[0m in \u001b[0;36m<cell line: 12>\u001b[1;34m()\u001b[0m\n\u001b[0;32m      <a href='vscode-notebook-cell:/z%3A/Prj/py/04_Modul__Class.ipynb#W2sZmlsZQ%3D%3D?line=8'>9</a>\u001b[0m         \u001b[39mself\u001b[39m\u001b[39m.\u001b[39mkapasite \u001b[39m=\u001b[39m kapasite\n\u001b[0;32m     <a href='vscode-notebook-cell:/z%3A/Prj/py/04_Modul__Class.ipynb#W2sZmlsZQ%3D%3D?line=9'>10</a>\u001b[0m         \u001b[39mself\u001b[39m\u001b[39m.\u001b[39myolcu \u001b[39m=\u001b[39m yolcu\n\u001b[1;32m---> <a href='vscode-notebook-cell:/z%3A/Prj/py/04_Modul__Class.ipynb#W2sZmlsZQ%3D%3D?line=11'>12</a>\u001b[0m ucus2 \u001b[39m=\u001b[39m Ucus()\n\u001b[0;32m     <a href='vscode-notebook-cell:/z%3A/Prj/py/04_Modul__Class.ipynb#W2sZmlsZQ%3D%3D?line=12'>13</a>\u001b[0m \u001b[39mprint\u001b[39m(ucus2\u001b[39m.\u001b[39mhavayolu)\n",
      "\u001b[1;31mTypeError\u001b[0m: __init__() missing 6 required positional arguments: 'kod', 'kalkis', 'varis', 'sure', 'kapasite', and 'yolcu'"
     ]
    }
   ],
   "source": [
    "class Ucus():\n",
    "    havayolu = \"THY\"\n",
    "\n",
    "    def __init__(self, kod, kalkis, varis, sure, kapasite, yolcu): \n",
    "        self.kod = kod\n",
    "        self.kalkis = kalkis\n",
    "        self.varis = varis\n",
    "        self.sure = sure\n",
    "        self.kapasite = kapasite\n",
    "        self.yolcu = yolcu\n",
    "\n",
    "ucus2 = Ucus()\n",
    "print(ucus2.havayolu) #tanımlama bekliyor hata verdi"
   ]
  },
  {
   "cell_type": "code",
   "execution_count": null,
   "metadata": {},
   "outputs": [
    {
     "name": "stdout",
     "output_type": "stream",
     "text": [
      "THY\n",
      "TK123\n",
      "IST\n",
      "ANK\n",
      "60\n",
      "300\n",
      "50\n"
     ]
    }
   ],
   "source": [
    "ucus2 = Ucus(\"TK123\", \"IST\" , \"ANK\",60,300,50)\n",
    "print(ucus2.havayolu)\n",
    "print(ucus2.kod)\n",
    "print(ucus2.kalkis)\n",
    "print(ucus2.varis)\n",
    "print(ucus2.sure)\n",
    "print(ucus2.kapasite)\n",
    "print(ucus2.yolcu)"
   ]
  },
  {
   "cell_type": "code",
   "execution_count": null,
   "metadata": {},
   "outputs": [
    {
     "name": "stdout",
     "output_type": "stream",
     "text": [
      "THY\n"
     ]
    }
   ],
   "source": [
    "ucus3 = Ucus(\"TK169\", \"BOD\" , \"IZM\" ,45,300,50)\n",
    "print(ucus3.havayolu)"
   ]
  },
  {
   "cell_type": "code",
   "execution_count": null,
   "metadata": {},
   "outputs": [],
   "source": [
    "class Ucus():\n",
    "    havayolu = \"THY\"\n",
    "\n",
    "    def __init__(self, kod, kalkis, varis, sure, kapasite, yolcu): \n",
    "        self.kod = kod\n",
    "        self.kalkis = kalkis\n",
    "        self.varis = varis\n",
    "        self.sure = sure\n",
    "        self.kapasite = kapasite\n",
    "        self.yolcu = yolcu\n",
    "\n",
    "    def anons_yap(self):\n",
    "        return '{} sefer sayili {}-{} ucusumuz {} dakika sürecektir.'.format(\n",
    "            self.kod,\n",
    "            self.kalkis,\n",
    "            self.varis,\n",
    "            self.sure)\n",
    "        \n",
    "    def koltuk_sayisi_guncelle(self):\n",
    "        return self.kapasite - self.yolcu\n",
    "    \n",
    "    def bilet_satis(self, bilet_adedi=1):\n",
    "        if self.yolcu + bilet_adedi <= self.kapasite: \n",
    "            self.yolcu += bilet_adedi\n",
    "            print('{} adet bilet rezerve edilmistir. \\nKalan müsait koltuk sayisi {}'.format(\n",
    "                bilet_adedi,\n",
    "                self.koltuk_sayisi_guncelle()\n",
    "            ))\n",
    "        else:\n",
    "            print('Islem gerceklestirilemedi. Yetersiz koltuk...')\n",
    "        \n",
    "    def bilet_iptal(self, bilet_adedi=1):\n",
    "        if self.yolcu >= bilet_adedi:\n",
    "            self.yolcu -= bilet_adedi\n",
    "            print('{} adet bilet rezerve edilmistir. \\nKalan müsait koltuk sayisi {}'.format(\n",
    "                bilet_adedi,\n",
    "                self.koltuk_sayisi_guncelle()\n",
    "            ))\n",
    "        else:\n",
    "            print('Islem gerceklestirilemedi. Mevcut olan biletten fazla iptal gerceklestirilemez...')"
   ]
  },
  {
   "cell_type": "code",
   "execution_count": null,
   "metadata": {},
   "outputs": [
    {
     "data": {
      "text/plain": [
       "'TK223 sefer sayili BOD-ANT ucusumuz 40 dakika sürecektir.'"
      ]
     },
     "execution_count": 25,
     "metadata": {},
     "output_type": "execute_result"
    }
   ],
   "source": [
    "ucus3 = Ucus(\"TK223\", \"BOD\" , \"ANT\" ,40,250,200)\n",
    "ucus3.anons_yap()"
   ]
  },
  {
   "cell_type": "code",
   "execution_count": null,
   "metadata": {},
   "outputs": [
    {
     "data": {
      "text/plain": [
       "50"
      ]
     },
     "execution_count": 26,
     "metadata": {},
     "output_type": "execute_result"
    }
   ],
   "source": [
    "ucus3.koltuk_sayisi_guncelle()"
   ]
  },
  {
   "cell_type": "code",
   "execution_count": null,
   "metadata": {},
   "outputs": [
    {
     "name": "stdout",
     "output_type": "stream",
     "text": [
      "5 adet bilet rezerve edilmistir. \n",
      "Kalan müsait koltuk sayisi 40\n"
     ]
    }
   ],
   "source": [
    "ucus3.bilet_satis(5)"
   ]
  },
  {
   "cell_type": "code",
   "execution_count": null,
   "metadata": {},
   "outputs": [
    {
     "name": "stdout",
     "output_type": "stream",
     "text": [
      "Islem gerceklestirilemedi. Yetersiz koltuk...\n"
     ]
    }
   ],
   "source": [
    "ucus3.bilet_satis(50)"
   ]
  },
  {
   "cell_type": "code",
   "execution_count": null,
   "metadata": {},
   "outputs": [
    {
     "data": {
      "text/plain": [
       "40"
      ]
     },
     "execution_count": 30,
     "metadata": {},
     "output_type": "execute_result"
    }
   ],
   "source": [
    "ucus3.koltuk_sayisi_guncelle()"
   ]
  },
  {
   "cell_type": "code",
   "execution_count": null,
   "metadata": {},
   "outputs": [
    {
     "name": "stdout",
     "output_type": "stream",
     "text": [
      "1 adet bilet rezerve edilmistir. \n",
      "Kalan müsait koltuk sayisi 41\n"
     ]
    }
   ],
   "source": [
    "ucus3.bilet_iptal()"
   ]
  },
  {
   "cell_type": "code",
   "execution_count": null,
   "metadata": {},
   "outputs": [
    {
     "name": "stdout",
     "output_type": "stream",
     "text": [
      "Islem gerceklestirilemedi. Mevcut olan biletten fazla iptal gerceklestirilemez...\n"
     ]
    }
   ],
   "source": [
    "ucus3.bilet_iptal(200)"
   ]
  },
  {
   "cell_type": "markdown",
   "metadata": {},
   "source": [
    "Dunder Method (Double under score) otomatik tanımlanan metotlar"
   ]
  },
  {
   "cell_type": "code",
   "execution_count": null,
   "metadata": {},
   "outputs": [
    {
     "data": {
      "text/plain": [
       "['kod',\n",
       " 'kalkis',\n",
       " 'varis',\n",
       " 'sure',\n",
       " 'kapasite',\n",
       " 'yolcu',\n",
       " '__module__',\n",
       " 'havayolu',\n",
       " '__init__',\n",
       " 'anons_yap',\n",
       " 'koltuk_sayisi_guncelle',\n",
       " 'bilet_satis',\n",
       " 'bilet_iptal',\n",
       " '__dict__',\n",
       " '__weakref__',\n",
       " '__doc__',\n",
       " '__repr__',\n",
       " '__hash__',\n",
       " '__str__',\n",
       " '__getattribute__',\n",
       " '__setattr__',\n",
       " '__delattr__',\n",
       " '__lt__',\n",
       " '__le__',\n",
       " '__eq__',\n",
       " '__ne__',\n",
       " '__gt__',\n",
       " '__ge__',\n",
       " '__new__',\n",
       " '__reduce_ex__',\n",
       " '__reduce__',\n",
       " '__subclasshook__',\n",
       " '__init_subclass__',\n",
       " '__format__',\n",
       " '__sizeof__',\n",
       " '__dir__',\n",
       " '__class__']"
      ]
     },
     "execution_count": 36,
     "metadata": {},
     "output_type": "execute_result"
    }
   ],
   "source": [
    "ucus3.__dir__()"
   ]
  },
  {
   "cell_type": "code",
   "execution_count": null,
   "metadata": {},
   "outputs": [
    {
     "data": {
      "text/plain": [
       "<__main__.Ucus at 0x1733b7cb8b0>"
      ]
     },
     "execution_count": 37,
     "metadata": {},
     "output_type": "execute_result"
    }
   ],
   "source": [
    "ucus3 #bellekte tutulan yeri gösteririr. bunun yerine daha okunabir için repr oluşturulabilir"
   ]
  },
  {
   "cell_type": "code",
   "execution_count": null,
   "metadata": {},
   "outputs": [],
   "source": [
    "class Ucus():\n",
    "    havayolu = \"THY\"\n",
    "\n",
    "    def __init__(self, kod, kalkis, varis, sure, kapasite, yolcu): \n",
    "        self.kod = kod\n",
    "        self.kalkis = kalkis\n",
    "        self.varis = varis\n",
    "        self.sure = sure\n",
    "        self.kapasite = kapasite\n",
    "        self.yolcu = yolcu\n",
    "\n",
    "    def __repr__(self):\n",
    "        return \"{} sefer sayili ucus, sistemde olşturulmuştur\".format(self.kod)\n",
    "\n"
   ]
  },
  {
   "cell_type": "code",
   "execution_count": null,
   "metadata": {},
   "outputs": [
    {
     "data": {
      "text/plain": [
       "TK223 sefer sayili ucus, sistemde olşturulmuştur"
      ]
     },
     "execution_count": 43,
     "metadata": {},
     "output_type": "execute_result"
    }
   ],
   "source": [
    "ucus3 = Ucus(\"TK223\", \"BOD\" , \"ANT\" ,40,250,200)\n",
    "ucus3"
   ]
  },
  {
   "cell_type": "markdown",
   "metadata": {},
   "source": [
    "Inheritance"
   ]
  },
  {
   "cell_type": "code",
   "execution_count": 55,
   "metadata": {},
   "outputs": [],
   "source": [
    "class Seyahat(): #superclass\n",
    "    \n",
    "    def __init__(self, kalkis, varis):\n",
    "        self.kalkis = kalkis\n",
    "        self.varis = varis\n",
    "    \n",
    "    def anons(self):\n",
    "        return '{}-{} seyahatine hos geldiniz!'.format(self.kalkis, self.varis)\n",
    "        \n",
    "class Otobus(Seyahat): #sub class olduğu içinn\n",
    "    \n",
    "    def __init__(self, mola_duraklari, kalkis, varis):\n",
    "        Seyahat.__init__(self, kalkis, varis)\n",
    "        self.mola_duraklari = mola_duraklari\n",
    "        "
   ]
  },
  {
   "cell_type": "code",
   "execution_count": null,
   "metadata": {},
   "outputs": [
    {
     "data": {
      "text/plain": [
       "'ANT-BOD seyahatine hos geldiniz!'"
      ]
     },
     "execution_count": 47,
     "metadata": {},
     "output_type": "execute_result"
    }
   ],
   "source": [
    "seyahat1 = Seyahat('ANT', 'BOD')\n",
    "seyahat1.anons()"
   ]
  },
  {
   "cell_type": "code",
   "execution_count": 56,
   "metadata": {},
   "outputs": [
    {
     "data": {
      "text/plain": [
       "['FET', 'ALN']"
      ]
     },
     "execution_count": 56,
     "metadata": {},
     "output_type": "execute_result"
    }
   ],
   "source": [
    "oto1 = Otobus([\"FET\",\"ALN\"],\"ANT\",\"BOD\")\n",
    "oto1.mola_duraklari"
   ]
  },
  {
   "cell_type": "code",
   "execution_count": 57,
   "metadata": {},
   "outputs": [
    {
     "data": {
      "text/plain": [
       "'ANT'"
      ]
     },
     "execution_count": 57,
     "metadata": {},
     "output_type": "execute_result"
    }
   ],
   "source": [
    "oto1.kalkis"
   ]
  },
  {
   "cell_type": "code",
   "execution_count": 58,
   "metadata": {},
   "outputs": [
    {
     "data": {
      "text/plain": [
       "'ANT-BOD seyahatine hos geldiniz!'"
      ]
     },
     "execution_count": 58,
     "metadata": {},
     "output_type": "execute_result"
    }
   ],
   "source": [
    "oto1.anons()"
   ]
  }
 ],
 "metadata": {
  "kernelspec": {
   "display_name": "Python 3.9.12 ('base')",
   "language": "python",
   "name": "python3"
  },
  "language_info": {
   "codemirror_mode": {
    "name": "ipython",
    "version": 3
   },
   "file_extension": ".py",
   "mimetype": "text/x-python",
   "name": "python",
   "nbconvert_exporter": "python",
   "pygments_lexer": "ipython3",
   "version": "3.9.12"
  },
  "orig_nbformat": 4,
  "vscode": {
   "interpreter": {
    "hash": "e42634819b8c191a5d07eaf23810ff32516dd8d3875f28ec3e488928fbd3c187"
   }
  }
 },
 "nbformat": 4,
 "nbformat_minor": 2
}
