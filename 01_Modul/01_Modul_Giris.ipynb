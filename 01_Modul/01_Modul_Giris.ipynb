{
 "cells": [
  {
   "cell_type": "code",
   "execution_count": 2,
   "metadata": {},
   "outputs": [
    {
     "name": "stdout",
     "output_type": "stream",
     "text": [
      "Hello World\n",
      "Hello \n",
      "World\n",
      "Benim adım\tWorld\n"
     ]
    }
   ],
   "source": [
    "#Ekrana yazdırma - /n yeni satır /t araya boşluk\n",
    "print(\"Hello World\")\n",
    "print(\"Hello \\nWorld\")\n",
    "print(\"Benim adım\\tWorld\")"
   ]
  },
  {
   "cell_type": "code",
   "execution_count": 3,
   "metadata": {},
   "outputs": [
    {
     "name": "stdout",
     "output_type": "stream",
     "text": [
      "Benim adım Mesut\n",
      "Benim adım Mesut, yasim 38\n",
      "Benim adım Mesut, yasim 38\n"
     ]
    }
   ],
   "source": [
    "#Yazdırma komutuna değişken atama\n",
    "print(\"Benim adım {}\".format('Mesut'))\n",
    "print(\"Benim adım {0}, yasim {1}\".format('Mesut',38))\n",
    "print(\"Benim adım {ad}, yasim {yas}\".format(ad='Mesut',yas=38))"
   ]
  },
  {
   "cell_type": "code",
   "execution_count": 4,
   "metadata": {},
   "outputs": [
    {
     "name": "stdout",
     "output_type": "stream",
     "text": [
      "10\n",
      "11\n"
     ]
    }
   ],
   "source": [
    "#Değişenler ve atama sayı ile başlamaz boşluk olmaz / olmaz ve reserve kelimeler kullanılmaz\n",
    "sayi=10\n",
    "print(sayi)\n",
    "sayi = sayi+1\n",
    "print(sayi)\n",
    "sayi_ilk = 10\n",
    "_ = 20\n",
    "a = 30"
   ]
  },
  {
   "cell_type": "code",
   "execution_count": 5,
   "metadata": {},
   "outputs": [
    {
     "name": "stdout",
     "output_type": "stream",
     "text": [
      "Python\n",
      "y\n",
      "thon\n",
      "Pyt\n",
      "tho\n",
      "Pto\n",
      "yo\n",
      "6\n",
      "Python ogren!\n",
      "Python ogren!Python ogren!Python ogren!Python ogren!Python ogren!\n",
      "PYTHON OGREN!\n",
      "python ogren!\n",
      "['Python', 'ogren!']\n",
      "['Pyth', 'n ', 'gren!']\n",
      "['Pyth', 'n ogren!']\n"
     ]
    }
   ],
   "source": [
    "#Veri tipleri ve sayı tipleri\n",
    "type(3) #yazı tipini verir\n",
    "\n",
    "\n",
    "## STRING ##\n",
    "strvar = \"Python\"\n",
    "print(strvar) #Python\n",
    "print(strvar[1]) #y\n",
    "print(strvar[2:]) #thon\n",
    "print(strvar[:3]) #Pyt\n",
    "print(strvar[2:5]) #tho\n",
    "print(strvar[::2]) #Pto\n",
    "print(strvar[1:5:3]) #yo\n",
    "# [] tek bir eleman alınır\n",
    "# [ : ] başlangıç ve bitiş arasındaki elemanlar alınır\n",
    "# [ : : ] başlangıç ve bitiş arasındaki elemanlar ücüncü kısımdaki değere göre atlayarak degerler alınır\n",
    "print (len(strvar)) #6\n",
    "print(strvar + \" ogren!\") #Python ogren!\n",
    "strvar=strvar + \" ogren!\"\n",
    "print(strvar*5) #Python ogren!Python ogren!Python ogren!Python ogren!Python ogren!\n",
    "print(strvar.upper()) #PYTHON OGREN!\n",
    "print(strvar.lower()) #python ogren!\n",
    "print(strvar.split()) #['Python', 'ogren!']\n",
    "print(strvar.split(\"o\")) #['Pyth', 'n ', 'gren!']\n",
    "print(strvar.split(sep=\"o\", maxsplit=1)) #['Pyth', 'n ogren!']"
   ]
  },
  {
   "cell_type": "code",
   "execution_count": 6,
   "metadata": {},
   "outputs": [
    {
     "name": "stdout",
     "output_type": "stream",
     "text": [
      "True\n",
      "False\n",
      "<class 'str'>\n",
      "False\n",
      "True\n",
      "False\n",
      "True\n"
     ]
    }
   ],
   "source": [
    "## BOOLEAN ##\n",
    "a=True\n",
    "b=False\n",
    "print(a)\n",
    "print(b)\n",
    "c = \"True\"\n",
    "print(type(c))\n",
    "yas1=20\n",
    "yas2=18\n",
    "print(yas2>18)\n",
    "print(yas2==18)\n",
    "print(yas2!=18)\n",
    "print(not yas1<18)"
   ]
  },
  {
   "cell_type": "code",
   "execution_count": 7,
   "metadata": {},
   "outputs": [
    {
     "name": "stdout",
     "output_type": "stream",
     "text": [
      "['a', 'b', 'c', 'd', 'e', 'a']\n",
      "['a', 'b', 'c', 'd', 'e', 'a', 'f']\n",
      "a\n",
      "['d', 'e']\n",
      "['a', 'b', 'c', 'd', 'e', 'a', 'f', 'g']\n",
      "['a', 'b', 'c', 'd', 'e', 'a', 'f']\n",
      "['a', 'b', 'c', 'd', 'e', 'f']\n"
     ]
    }
   ],
   "source": [
    "## LIST []\n",
    "liste = [\"a\",\"b\",\"c\",\"d\",\"e\",\"a\"]\n",
    "print(liste)\n",
    "\n",
    "liste = liste + [\"f\"]\n",
    "print(liste)\n",
    "\n",
    "print(liste[0])\n",
    "\n",
    "print(liste[3:5])#['d', 'e']\n",
    "\n",
    "liste.append(\"g\") #ekleme\n",
    "print(liste)\n",
    "\n",
    "liste.pop()#son eleman çıkarma\n",
    "print(liste)\n",
    "\n",
    "liste.pop(5) #5.indisteki elemanı çıkarma\n",
    "print(liste)\n"
   ]
  },
  {
   "cell_type": "code",
   "execution_count": 8,
   "metadata": {},
   "outputs": [
    {
     "name": "stdout",
     "output_type": "stream",
     "text": [
      "[1, 1, 35, 123, 345, 12312, 54564]\n",
      "[54564, 12312, 345, 123, 35, 1, 1]\n"
     ]
    }
   ],
   "source": [
    "sayilar = [123, 12312, 54564, 35, 345, 1, 1]\n",
    "sayilar.sort()\n",
    "print(sayilar)\n",
    "\n",
    "sayilar.reverse()\n",
    "print(sayilar)"
   ]
  },
  {
   "cell_type": "code",
   "execution_count": 9,
   "metadata": {},
   "outputs": [
    {
     "data": {
      "text/plain": [
       "{1, 35, 123, 345, 12312, 54564}"
      ]
     },
     "execution_count": 9,
     "metadata": {},
     "output_type": "execute_result"
    }
   ],
   "source": [
    "## SET {} - tekrarlayan elemanları yok eder.\n",
    "set(sayilar)"
   ]
  },
  {
   "cell_type": "code",
   "execution_count": 10,
   "metadata": {},
   "outputs": [
    {
     "name": "stdout",
     "output_type": "stream",
     "text": [
      "['a', 'b', 'c', 'd', 'e', 'a']\n",
      "('a', 'b', 'c', 'd', 'e', 'a')\n",
      "[123, 'b', 'c', 'd', 'e', 'a']\n",
      "1\n",
      "0\n"
     ]
    }
   ],
   "source": [
    "## TUPLE ()) - değiştirilemez\n",
    "liste = [\"a\",\"b\",\"c\",\"d\",\"e\",\"a\"]\n",
    "print(liste)\n",
    "tup = (\"a\",\"b\",\"c\",\"d\",\"e\",\"a\")\n",
    "print(tup)\n",
    "\n",
    "liste[0] = 123\n",
    "print(liste)\n",
    "\n",
    "# tup[0] = 123 # atama yapmaz hata verir\n",
    "\n",
    "print(tup.index(\"b\"))\n",
    "\n",
    "print(tup.index(\"a\",))\n",
    "\n",
    "# print(tup.index(True)) #bu değer olmadığı için hata verir\n",
    "\n"
   ]
  },
  {
   "cell_type": "code",
   "execution_count": 11,
   "metadata": {},
   "outputs": [
    {
     "name": "stdout",
     "output_type": "stream",
     "text": [
      "{'isim': 'Mesut', 'yas': 32, 'lokasyon': 'Berlin'}\n",
      "{'isim': 'Mesut', 'yas': 32, 'lokasyon': 'Berlin'}\n",
      "32\n",
      "Mesut\n",
      "{'isim': 'Mesut', 'yas': 32, 'lokasyon': {'dogdogu_sehir': 'Istanbul', 'yasadigi_sehir': 'Berlin'}}\n",
      "Berlin\n",
      "Istanbul\n",
      "dict_keys(['isim', 'yas', 'lokasyon'])\n",
      "dict_values(['Mesut', 32, {'dogdogu_sehir': 'Istanbul', 'yasadigi_sehir': 'Berlin'}])\n",
      "dict_items([('isim', 'Mesut'), ('yas', 32), ('lokasyon', {'dogdogu_sehir': 'Istanbul', 'yasadigi_sehir': 'Berlin'})])\n"
     ]
    }
   ],
   "source": [
    "#DICTIONARY - çok boyutlu değişkenler\n",
    "dict1 = {\"isim\":\"Mesut\" , \"yas\":32, \"lokasyon\":\"Berlin\"}\n",
    "print(dict1)\n",
    "\n",
    "dict2 = { #tercih edilen gösterim\n",
    "    \"isim\":\"Mesut\" , \n",
    "    \"yas\":32, \n",
    "    \"lokasyon\":\"Berlin\"\n",
    "    }\n",
    "print(dict2)\n",
    "print(dict2[\"yas\"])\n",
    "print(dict2.get(\"isim\"))\n",
    "\n",
    "dict3 = { #tercih edilen gösterim\n",
    "    \"isim\":\"Mesut\" , \n",
    "    \"yas\":32, \n",
    "    \"lokasyon\": {\n",
    "        \"dogdogu_sehir\" : \"Istanbul\",\n",
    "        \"yasadigi_sehir\" : \"Berlin\"\n",
    "    } }\n",
    "print(dict3)\n",
    "print(dict3[\"lokasyon\"][\"yasadigi_sehir\"]) #Berlin\n",
    "print(dict3.get(\"lokasyon\").get(\"dogdogu_sehir\")) #Istanbul\n",
    "print(dict3.keys()) #dict_keys(['isim', 'yas', 'lokasyon'])\n",
    "print(dict3.values()) #dict_values(['Mesut', 32, {'dogdogu_sehir': 'Istanbul', 'yasadigi_sehir': 'Berlin'}])\n",
    "print(dict3.items()) #dict_items([('isim', 'Mesut'), ('yas', 32), ('lokasyon', {'dogdogu_sehir': 'Istanbul', 'yasadigi_sehir': 'Berlin'})])\n"
   ]
  }
 ],
 "metadata": {
  "kernelspec": {
   "display_name": "Python 3.9.12 ('base')",
   "language": "python",
   "name": "python3"
  },
  "language_info": {
   "codemirror_mode": {
    "name": "ipython",
    "version": 3
   },
   "file_extension": ".py",
   "mimetype": "text/x-python",
   "name": "python",
   "nbconvert_exporter": "python",
   "pygments_lexer": "ipython3",
   "version": "3.9.12"
  },
  "orig_nbformat": 4,
  "vscode": {
   "interpreter": {
    "hash": "ad4230dcc985a6694447830c7503112868e55c5b8e7e9400fedb750133391ec9"
   }
  }
 },
 "nbformat": 4,
 "nbformat_minor": 2
}
