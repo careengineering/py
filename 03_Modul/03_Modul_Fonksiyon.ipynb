{
 "cells": [
  {
   "cell_type": "markdown",
   "metadata": {},
   "source": [
    "def <fonksiyon_ismi>(<argümanlar>): # snake_case - isimlendirme şekli\n",
    "    \"\"\"\n",
    "    Bu kod ne ise yarar             # docstring\n",
    "    \"\"\"\n",
    "    ...                             # return/print"
   ]
  },
  {
   "cell_type": "code",
   "execution_count": 82,
   "metadata": {},
   "outputs": [
    {
     "name": "stdout",
     "output_type": "stream",
     "text": [
      "5\n"
     ]
    }
   ],
   "source": [
    "def bes_bastir():\n",
    "    \"\"\" # Docstring fonksiyonun kullanımı için ipucu\n",
    "    arguman1 : int:\n",
    "    return: string : rakamın yazı karşılığı\n",
    "    \"\"\"\n",
    "    print(5)\n",
    "\n",
    "bes_bastir()"
   ]
  },
  {
   "cell_type": "code",
   "execution_count": 83,
   "metadata": {},
   "outputs": [
    {
     "data": {
      "text/plain": [
       "5"
      ]
     },
     "execution_count": 83,
     "metadata": {},
     "output_type": "execute_result"
    }
   ],
   "source": [
    "def bes_dondur():\n",
    "    return 5\n",
    "\n",
    "bes_dondur()"
   ]
  },
  {
   "cell_type": "code",
   "execution_count": 84,
   "metadata": {},
   "outputs": [
    {
     "name": "stdout",
     "output_type": "stream",
     "text": [
      "5\n",
      "None\n",
      "\t\n",
      "5\n"
     ]
    }
   ],
   "source": [
    "a = bes_bastir()\n",
    "print(a)\n",
    "print(\"\\t\")\n",
    "\n",
    "b = bes_dondur()\n",
    "print(b)"
   ]
  },
  {
   "cell_type": "code",
   "execution_count": 85,
   "metadata": {},
   "outputs": [
    {
     "data": {
      "text/plain": [
       "10"
      ]
     },
     "execution_count": 85,
     "metadata": {},
     "output_type": "execute_result"
    }
   ],
   "source": [
    "def sayi_dondur(sayi):\n",
    "    return sayi\n",
    "\n",
    "sayi_dondur(10)"
   ]
  },
  {
   "cell_type": "code",
   "execution_count": 86,
   "metadata": {},
   "outputs": [
    {
     "name": "stdout",
     "output_type": "stream",
     "text": [
      "250\n",
      "\t\n",
      "89\n"
     ]
    }
   ],
   "source": [
    "def sayi_dondur(sayi=250): #default olarak belirlenir\n",
    "    return sayi\n",
    "\n",
    "print(sayi_dondur())\n",
    "print(\"\\t\")\n",
    "print(sayi_dondur(89))\n"
   ]
  },
  {
   "cell_type": "code",
   "execution_count": 87,
   "metadata": {},
   "outputs": [
    {
     "data": {
      "text/plain": [
       "12"
      ]
     },
     "execution_count": 87,
     "metadata": {},
     "output_type": "execute_result"
    }
   ],
   "source": [
    "def buyuk_sayi_dondur(a,b):\n",
    "    # return a\n",
    "    # return b\n",
    "    # olsaydı a yı dondurur ve fonksiyondan çıkar\n",
    "    if a>b:\n",
    "        return a\n",
    "    elif b>a:\n",
    "        return b\n",
    "\n",
    "buyuk_sayi_dondur(12,7)"
   ]
  },
  {
   "cell_type": "code",
   "execution_count": 88,
   "metadata": {},
   "outputs": [
    {
     "name": "stdout",
     "output_type": "stream",
     "text": [
      "89 daha büyük sayıdır\n"
     ]
    }
   ],
   "source": [
    "def metin_yazdir(a,b):\n",
    "    buyuk_sayi = buyuk_sayi_dondur(a,b)\n",
    "    sablon_metin = \"{} daha büyük sayıdır\".format(buyuk_sayi)\n",
    "    print(sablon_metin)\n",
    "\n",
    "metin_yazdir(15,89)"
   ]
  },
  {
   "cell_type": "code",
   "execution_count": 89,
   "metadata": {},
   "outputs": [
    {
     "name": "stdout",
     "output_type": "stream",
     "text": [
      "Abuzer\n",
      "Kadayıf\n"
     ]
    }
   ],
   "source": [
    "def isim_soyisim_ayirma(isim_soyisim):\n",
    "    isim = isim_soyisim.split()[0]\n",
    "    soyisim = isim_soyisim.split()[1]\n",
    "    return isim,soyisim\n",
    "\n",
    "a,b = isim_soyisim_ayirma(\"Abuzer Kadayıf\")\n",
    "print(a)\n",
    "print(b)\n"
   ]
  },
  {
   "cell_type": "code",
   "execution_count": 90,
   "metadata": {},
   "outputs": [
    {
     "data": {
      "text/plain": [
       "'Ayşe Konak'"
      ]
     },
     "execution_count": 90,
     "metadata": {},
     "output_type": "execute_result"
    }
   ],
   "source": [
    "def isim_soyisim_birlestirme(isim,soyisim):\n",
    "    return \" \".join([isim,soyisim]) # join komutundan önce kelimeler arası birleştirilecek simge/boşluk konur\n",
    "\n",
    "isim_soyisim_birlestirme(\"Ayşe\",\"Konak\")"
   ]
  },
  {
   "cell_type": "code",
   "execution_count": 91,
   "metadata": {},
   "outputs": [
    {
     "data": {
      "text/plain": [
       "'Ayşe Konak Hep'"
      ]
     },
     "execution_count": 91,
     "metadata": {},
     "output_type": "execute_result"
    }
   ],
   "source": [
    "def isim_soyisim_birlestirme_coklu(*args): #argüman sayısı belirsizse args listeye referans verir\n",
    "    return \" \".join(args)\n",
    "\n",
    "isim_soyisim_birlestirme_coklu(\"Ayşe\",\"Konak\",\"Hep\")"
   ]
  },
  {
   "cell_type": "code",
   "execution_count": 92,
   "metadata": {},
   "outputs": [
    {
     "name": "stdout",
     "output_type": "stream",
     "text": [
      "Mesut\n",
      "Gobek adi yok\n"
     ]
    }
   ],
   "source": [
    "def gobek_adi_yazdir(**kwargs): #argümanlar belli değilse, \n",
    "    if \"gobekadi\" in kwargs:\n",
    "        print(kwargs[\"gobekadi\"])\n",
    "    else:\n",
    "        print(\"Gobek adi yok\")\n",
    "\n",
    "gobek_adi_yazdir(adi=\"Erol\" , gobekadi=\"Mesut\", soyadi=\"Gün\")\n",
    "gobek_adi_yazdir(adi=\"Fatma\" , soyadi=\"Kaçar\")"
   ]
  },
  {
   "cell_type": "code",
   "execution_count": 93,
   "metadata": {},
   "outputs": [
    {
     "data": {
      "text/plain": [
       "25"
      ]
     },
     "execution_count": 93,
     "metadata": {},
     "output_type": "execute_result"
    }
   ],
   "source": [
    "#### MAP\n",
    "def karesini_al(x):\n",
    "    return x**2\n",
    "\n",
    "karesini_al(5)"
   ]
  },
  {
   "cell_type": "code",
   "execution_count": 94,
   "metadata": {},
   "outputs": [
    {
     "name": "stdout",
     "output_type": "stream",
     "text": [
      "[1, 2, 3, 4, 5]\n",
      "[1, 4, 9, 16, 25]\n"
     ]
    }
   ],
   "source": [
    "sayilar = [*range(1,6)]\n",
    "print(sayilar)\n",
    "for index in range(len(sayilar)):\n",
    "    sayilar[index] = karesini_al(sayilar[index])\n",
    "print(sayilar)"
   ]
  },
  {
   "cell_type": "code",
   "execution_count": 95,
   "metadata": {},
   "outputs": [
    {
     "data": {
      "text/plain": [
       "[1, 4, 9, 16, 25]"
      ]
     },
     "execution_count": 95,
     "metadata": {},
     "output_type": "execute_result"
    }
   ],
   "source": [
    "# yukarıdaki işlemi yapar - bir fonksiyonu tüm listeye uygular\n",
    "sayilar = [*range(1,6)]\n",
    "[*map(karesini_al,sayilar)]"
   ]
  },
  {
   "cell_type": "code",
   "execution_count": 96,
   "metadata": {},
   "outputs": [
    {
     "data": {
      "text/plain": [
       "4"
      ]
     },
     "execution_count": 96,
     "metadata": {},
     "output_type": "execute_result"
    }
   ],
   "source": [
    "#FILTER \n",
    "\n",
    "def cift_sayilari_filtrele(x):\n",
    "    if x%2==0:\n",
    "        return x\n",
    "    # yazılıp yazılmaması farketmez daha sonra karşımıza çıkacak\n",
    "    #else:\n",
    "    #    None\n",
    "\n",
    "cift_sayilari_filtrele(4)"
   ]
  },
  {
   "cell_type": "code",
   "execution_count": 97,
   "metadata": {},
   "outputs": [
    {
     "data": {
      "text/plain": [
       "10"
      ]
     },
     "execution_count": 97,
     "metadata": {},
     "output_type": "execute_result"
    }
   ],
   "source": [
    "#yukarıdaki işlemi yapar. daha putonist yazım şekli\n",
    "def cift_sayilari_filtrelee(x):\n",
    "        return x if x%2==0 else None #none hiçliği temsil eder\n",
    "\n",
    "cift_sayilari_filtrelee(10)"
   ]
  },
  {
   "cell_type": "code",
   "execution_count": 98,
   "metadata": {},
   "outputs": [
    {
     "data": {
      "text/plain": [
       "[2, 4]"
      ]
     },
     "execution_count": 98,
     "metadata": {},
     "output_type": "execute_result"
    }
   ],
   "source": [
    "# bu işlem filter komutuylada yapılabilir\n",
    "sayilar = [*range(1,6)]\n",
    "[*filter(cift_sayilari_filtrelee,sayilar)]"
   ]
  },
  {
   "cell_type": "code",
   "execution_count": 100,
   "metadata": {},
   "outputs": [
    {
     "data": {
      "text/plain": [
       "[1, 4, 9, 16, 25]"
      ]
     },
     "execution_count": 100,
     "metadata": {},
     "output_type": "execute_result"
    }
   ],
   "source": [
    "# LAMBDA yol üzerinde fonksiyonu tanımlamak için kullanılır. tercih edilir\n",
    "sayilar = [*range(1,6)]\n",
    "[*map(lambda sayi:sayi**2, sayilar)]"
   ]
  },
  {
   "cell_type": "code",
   "execution_count": 101,
   "metadata": {},
   "outputs": [
    {
     "data": {
      "text/plain": [
       "[2, 4]"
      ]
     },
     "execution_count": 101,
     "metadata": {},
     "output_type": "execute_result"
    }
   ],
   "source": [
    "sayilar = [*range(1,6)]\n",
    "[*filter(lambda x: x if x%2==0 else None,sayilar)]"
   ]
  },
  {
   "cell_type": "code",
   "execution_count": 105,
   "metadata": {},
   "outputs": [
    {
     "data": {
      "text/plain": [
       "str"
      ]
     },
     "execution_count": 105,
     "metadata": {},
     "output_type": "execute_result"
    }
   ],
   "source": [
    "girdi = input(\"Bir sayı giriniz\")\n",
    "type(girdi)"
   ]
  },
  {
   "cell_type": "code",
   "execution_count": 106,
   "metadata": {},
   "outputs": [
    {
     "data": {
      "text/plain": [
       "int"
      ]
     },
     "execution_count": 106,
     "metadata": {},
     "output_type": "execute_result"
    }
   ],
   "source": [
    "girdi = input(\"Bir sayı giriniz\")\n",
    "type(int(girdi))"
   ]
  },
  {
   "cell_type": "code",
   "execution_count": 110,
   "metadata": {},
   "outputs": [
    {
     "data": {
      "text/plain": [
       "'evet 10 sayisi çift sayıdır'"
      ]
     },
     "execution_count": 110,
     "metadata": {},
     "output_type": "execute_result"
    }
   ],
   "source": [
    "def uygulama():\n",
    "    girdi = input(\"Bir sayı giriniz\")\n",
    "    islem = input(\"Verinin tek mi çift mi olduğunu sorgula:\")\n",
    "\n",
    "    if islem ==\"çift\":\n",
    "        if int(girdi)%2==0:\n",
    "            return \"evet {} sayisi çift sayıdır\".format(girdi)\n",
    "        else:\n",
    "            return \"hayır {} sayisi çift sayı değildir\".format(girdi)\n",
    "    elif islem ==\"tek\":\n",
    "        if int(girdi)%2==1:\n",
    "            return \"evet {} sayisi tek sayıdır\".format(girdi)\n",
    "        else:\n",
    "            return \"hayır {} sayisi tek sayı değildir\".format(girdi)\n",
    "\n",
    "uygulama()"
   ]
  },
  {
   "cell_type": "markdown",
   "metadata": {},
   "source": [
    "Kullanıcı girdisi kontrol"
   ]
  },
  {
   "cell_type": "code",
   "execution_count": 113,
   "metadata": {},
   "outputs": [
    {
     "name": "stdout",
     "output_type": "stream",
     "text": [
      "tebrikler sayı tipi değer girdiniz\n"
     ]
    }
   ],
   "source": [
    "from curses.ascii import isdigit\n",
    "\n",
    "\n",
    "def sayi_girdisi_kontrol():\n",
    "    girdi = input (\"Bir sayi giriniz\")\n",
    "\n",
    "    if girdi.isdigit():\n",
    "        print(\"tebrikler sayı tipi değer girdiniz\")\n",
    "    else:\n",
    "        print(\"üzgünüm sayı değil\")\n",
    "\n",
    "sayi_girdisi_kontrol()"
   ]
  },
  {
   "cell_type": "code",
   "execution_count": 118,
   "metadata": {},
   "outputs": [
    {
     "name": "stdout",
     "output_type": "stream",
     "text": [
      "üzgünüm sayı değil\n",
      "üzgünüm sayı değil\n",
      "üzgünüm sayı değil\n",
      "tebrikler sayı tipi değer girdiniz\n"
     ]
    }
   ],
   "source": [
    "def sayi_girdisi_kontrol_dongu():\n",
    "    girdi = input (\"Bir sayi giriniz\")\n",
    "\n",
    "    while not girdi.isdigit():\n",
    "        print(\"üzgünüm sayı değil\")\n",
    "        girdi = input (\"Bir sayi giriniz\")\n",
    "\n",
    "    else:\n",
    "        print(\"tebrikler sayı tipi değer girdiniz\")\n",
    "\n",
    "\n",
    "sayi_girdisi_kontrol_dongu()\n"
   ]
  },
  {
   "cell_type": "code",
   "execution_count": 119,
   "metadata": {},
   "outputs": [
    {
     "name": "stdout",
     "output_type": "stream",
     "text": [
      "Tebrikler! E-posta adresinizle basariyla giris yaptiniz...\n"
     ]
    }
   ],
   "source": [
    "def eposta_kontrol():\n",
    "    \n",
    "    # erolmesutgun@hotmail.com, oguz@boun.edu.tr\n",
    "    \n",
    "    girdi = input(\"Gecerli bir eposta adresi giriniz:\")\n",
    "    \n",
    "    while not (('.' in girdi) and ('@' in girdi)):\n",
    "        print(\"Üzgünüm! Bu gecerli bir e-posta adresi degildir...\")\n",
    "        girdi = input(\"Gecerli bir eposta adresi giriniz:\")\n",
    "        \n",
    "    else:\n",
    "        print(\"Tebrikler! E-posta adresinizle basariyla giris yaptiniz...\")\n",
    "\n",
    "eposta_kontrol()"
   ]
  }
 ],
 "metadata": {
  "kernelspec": {
   "display_name": "Python 3.9.12 ('base')",
   "language": "python",
   "name": "python3"
  },
  "language_info": {
   "codemirror_mode": {
    "name": "ipython",
    "version": 3
   },
   "file_extension": ".py",
   "mimetype": "text/x-python",
   "name": "python",
   "nbconvert_exporter": "python",
   "pygments_lexer": "ipython3",
   "version": "3.9.12"
  },
  "orig_nbformat": 4,
  "vscode": {
   "interpreter": {
    "hash": "ad4230dcc985a6694447830c7503112868e55c5b8e7e9400fedb750133391ec9"
   }
  }
 },
 "nbformat": 4,
 "nbformat_minor": 2
}
